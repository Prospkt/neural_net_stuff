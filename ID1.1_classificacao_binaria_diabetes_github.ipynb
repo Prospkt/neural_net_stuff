{
  "nbformat": 4,
  "nbformat_minor": 0,
  "metadata": {
    "colab": {
      "name": "classificacao_binaria_diabetes_github",
      "provenance": [],
      "authorship_tag": "ABX9TyOmhNjeboBcjZ87drPfZ7C7",
      "include_colab_link": true
    },
    "kernelspec": {
      "name": "python3",
      "display_name": "Python 3"
    }
  },
  "cells": [
    {
      "cell_type": "markdown",
      "metadata": {
        "id": "view-in-github",
        "colab_type": "text"
      },
      "source": [
        "<a href=\"https://colab.research.google.com/github/Prospkt/neural_net_stuff/blob/main/classificacao_binaria_diabetes_github.ipynb\" target=\"_parent\"><img src=\"https://colab.research.google.com/assets/colab-badge.svg\" alt=\"Open In Colab\"/></a>"
      ]
    },
    {
      "cell_type": "code",
      "metadata": {
        "id": "-qygEeg85Nax"
      },
      "source": [
        "from pandas import read_csv\r\n",
        "from sklearn.model_selection import train_test_split\r\n",
        "from tensorflow.keras import Sequential\r\n",
        "from tensorflow.keras.layers import Dense\r\n",
        "import matplotlib.pyplot as plt\r\n"
      ],
      "execution_count": 1,
      "outputs": []
    },
    {
      "cell_type": "code",
      "metadata": {
        "colab": {
          "base_uri": "https://localhost:8080/",
          "height": 392
        },
        "id": "mcZ-lRnL-M0O",
        "outputId": "5ccb2571-8010-489a-b76e-b98505506258"
      },
      "source": [
        "dados = read_csv('/content/diabetes_titulos.csv', sep=\",\")\r\n",
        "dados"
      ],
      "execution_count": 2,
      "outputs": [
        {
          "output_type": "execute_result",
          "data": {
            "text/html": [
              "<div>\n",
              "<style scoped>\n",
              "    .dataframe tbody tr th:only-of-type {\n",
              "        vertical-align: middle;\n",
              "    }\n",
              "\n",
              "    .dataframe tbody tr th {\n",
              "        vertical-align: top;\n",
              "    }\n",
              "\n",
              "    .dataframe thead th {\n",
              "        text-align: right;\n",
              "    }\n",
              "</style>\n",
              "<table border=\"1\" class=\"dataframe\">\n",
              "  <thead>\n",
              "    <tr style=\"text-align: right;\">\n",
              "      <th></th>\n",
              "      <th>Pregnancies</th>\n",
              "      <th>Glucose</th>\n",
              "      <th>BloodPressure</th>\n",
              "      <th>SkinThickness</th>\n",
              "      <th>Insulin</th>\n",
              "      <th>BMI</th>\n",
              "      <th>DiabetesPedigreeFunction</th>\n",
              "      <th>Age</th>\n",
              "      <th>Outcome</th>\n",
              "    </tr>\n",
              "  </thead>\n",
              "  <tbody>\n",
              "    <tr>\n",
              "      <th>0</th>\n",
              "      <td>2</td>\n",
              "      <td>138</td>\n",
              "      <td>62</td>\n",
              "      <td>35</td>\n",
              "      <td>0</td>\n",
              "      <td>33.6</td>\n",
              "      <td>0.127</td>\n",
              "      <td>47</td>\n",
              "      <td>1</td>\n",
              "    </tr>\n",
              "    <tr>\n",
              "      <th>1</th>\n",
              "      <td>0</td>\n",
              "      <td>84</td>\n",
              "      <td>82</td>\n",
              "      <td>31</td>\n",
              "      <td>125</td>\n",
              "      <td>38.2</td>\n",
              "      <td>0.233</td>\n",
              "      <td>23</td>\n",
              "      <td>0</td>\n",
              "    </tr>\n",
              "    <tr>\n",
              "      <th>2</th>\n",
              "      <td>0</td>\n",
              "      <td>145</td>\n",
              "      <td>0</td>\n",
              "      <td>0</td>\n",
              "      <td>0</td>\n",
              "      <td>44.2</td>\n",
              "      <td>0.630</td>\n",
              "      <td>31</td>\n",
              "      <td>1</td>\n",
              "    </tr>\n",
              "    <tr>\n",
              "      <th>3</th>\n",
              "      <td>0</td>\n",
              "      <td>135</td>\n",
              "      <td>68</td>\n",
              "      <td>42</td>\n",
              "      <td>250</td>\n",
              "      <td>42.3</td>\n",
              "      <td>0.365</td>\n",
              "      <td>24</td>\n",
              "      <td>1</td>\n",
              "    </tr>\n",
              "    <tr>\n",
              "      <th>4</th>\n",
              "      <td>1</td>\n",
              "      <td>139</td>\n",
              "      <td>62</td>\n",
              "      <td>41</td>\n",
              "      <td>480</td>\n",
              "      <td>40.7</td>\n",
              "      <td>0.536</td>\n",
              "      <td>21</td>\n",
              "      <td>0</td>\n",
              "    </tr>\n",
              "    <tr>\n",
              "      <th>...</th>\n",
              "      <td>...</td>\n",
              "      <td>...</td>\n",
              "      <td>...</td>\n",
              "      <td>...</td>\n",
              "      <td>...</td>\n",
              "      <td>...</td>\n",
              "      <td>...</td>\n",
              "      <td>...</td>\n",
              "      <td>...</td>\n",
              "    </tr>\n",
              "    <tr>\n",
              "      <th>1995</th>\n",
              "      <td>2</td>\n",
              "      <td>75</td>\n",
              "      <td>64</td>\n",
              "      <td>24</td>\n",
              "      <td>55</td>\n",
              "      <td>29.7</td>\n",
              "      <td>0.370</td>\n",
              "      <td>33</td>\n",
              "      <td>0</td>\n",
              "    </tr>\n",
              "    <tr>\n",
              "      <th>1996</th>\n",
              "      <td>8</td>\n",
              "      <td>179</td>\n",
              "      <td>72</td>\n",
              "      <td>42</td>\n",
              "      <td>130</td>\n",
              "      <td>32.7</td>\n",
              "      <td>0.719</td>\n",
              "      <td>36</td>\n",
              "      <td>1</td>\n",
              "    </tr>\n",
              "    <tr>\n",
              "      <th>1997</th>\n",
              "      <td>6</td>\n",
              "      <td>85</td>\n",
              "      <td>78</td>\n",
              "      <td>0</td>\n",
              "      <td>0</td>\n",
              "      <td>31.2</td>\n",
              "      <td>0.382</td>\n",
              "      <td>42</td>\n",
              "      <td>0</td>\n",
              "    </tr>\n",
              "    <tr>\n",
              "      <th>1998</th>\n",
              "      <td>0</td>\n",
              "      <td>129</td>\n",
              "      <td>110</td>\n",
              "      <td>46</td>\n",
              "      <td>130</td>\n",
              "      <td>67.1</td>\n",
              "      <td>0.319</td>\n",
              "      <td>26</td>\n",
              "      <td>1</td>\n",
              "    </tr>\n",
              "    <tr>\n",
              "      <th>1999</th>\n",
              "      <td>2</td>\n",
              "      <td>81</td>\n",
              "      <td>72</td>\n",
              "      <td>15</td>\n",
              "      <td>76</td>\n",
              "      <td>30.1</td>\n",
              "      <td>0.547</td>\n",
              "      <td>25</td>\n",
              "      <td>0</td>\n",
              "    </tr>\n",
              "  </tbody>\n",
              "</table>\n",
              "<p>2000 rows × 9 columns</p>\n",
              "</div>"
            ],
            "text/plain": [
              "      Pregnancies  Glucose  ...  Age  Outcome\n",
              "0               2      138  ...   47        1\n",
              "1               0       84  ...   23        0\n",
              "2               0      145  ...   31        1\n",
              "3               0      135  ...   24        1\n",
              "4               1      139  ...   21        0\n",
              "...           ...      ...  ...  ...      ...\n",
              "1995            2       75  ...   33        0\n",
              "1996            8      179  ...   36        1\n",
              "1997            6       85  ...   42        0\n",
              "1998            0      129  ...   26        1\n",
              "1999            2       81  ...   25        0\n",
              "\n",
              "[2000 rows x 9 columns]"
            ]
          },
          "metadata": {
            "tags": []
          },
          "execution_count": 2
        }
      ]
    },
    {
      "cell_type": "code",
      "metadata": {
        "id": "WQy_upGF_AUs"
      },
      "source": [
        "X = dados.values[:,0:9]\r\n",
        "y = dados.values[:,8]\r\n"
      ],
      "execution_count": 17,
      "outputs": []
    },
    {
      "cell_type": "code",
      "metadata": {
        "id": "tvwMOIAV_rla"
      },
      "source": [
        "# Geracao dos arquivos de treino, teste e validacao\r\n",
        "X_train, X_test, y_train, y_test = train_test_split(X, y, test_size=0.20)"
      ],
      "execution_count": 18,
      "outputs": []
    },
    {
      "cell_type": "code",
      "metadata": {
        "id": "LKECHynBA06S"
      },
      "source": [
        "# Geracao do modelo \r\n",
        "model = Sequential()\r\n",
        "model.add(Dense(100, activation= 'tanh', kernel_initializer= 'he_normal', input_shape=(9,))) #9 colunas-1 =8\r\n",
        "model.add(Dense(80, activation = 'relu'))\r\n",
        "model.add(Dense(1, activation= 'sigmoid')) "
      ],
      "execution_count": 22,
      "outputs": []
    },
    {
      "cell_type": "code",
      "metadata": {
        "id": "Fhxc6J-LClAh"
      },
      "source": [
        "# Compilacao do modelo \r\n",
        "model.compile(optimizer='adam', loss='binary_crossentropy', metrics= ['accuracy'])\r\n"
      ],
      "execution_count": 23,
      "outputs": []
    },
    {
      "cell_type": "code",
      "metadata": {
        "colab": {
          "base_uri": "https://localhost:8080/"
        },
        "id": "GHT6B2JwDwtJ",
        "outputId": "04fa4bb2-df3f-4337-b032-f0d38a615923"
      },
      "source": [
        "history = model.fit(X_train, y_train, validation_data=(X_test, y_test), epochs=50, batch_size=32, verbose=1)"
      ],
      "execution_count": 24,
      "outputs": [
        {
          "output_type": "stream",
          "text": [
            "Epoch 1/50\n",
            "50/50 [==============================] - 1s 11ms/step - loss: 0.6318 - accuracy: 0.6416 - val_loss: 0.5726 - val_accuracy: 0.6725\n",
            "Epoch 2/50\n",
            "50/50 [==============================] - 0s 2ms/step - loss: 0.5646 - accuracy: 0.6986 - val_loss: 0.5775 - val_accuracy: 0.6850\n",
            "Epoch 3/50\n",
            "50/50 [==============================] - 0s 3ms/step - loss: 0.5663 - accuracy: 0.6963 - val_loss: 0.5380 - val_accuracy: 0.7150\n",
            "Epoch 4/50\n",
            "50/50 [==============================] - 0s 2ms/step - loss: 0.5492 - accuracy: 0.7088 - val_loss: 0.5425 - val_accuracy: 0.7200\n",
            "Epoch 5/50\n",
            "50/50 [==============================] - 0s 2ms/step - loss: 0.5377 - accuracy: 0.7211 - val_loss: 0.5210 - val_accuracy: 0.7375\n",
            "Epoch 6/50\n",
            "50/50 [==============================] - 0s 3ms/step - loss: 0.5472 - accuracy: 0.7138 - val_loss: 0.5138 - val_accuracy: 0.7450\n",
            "Epoch 7/50\n",
            "50/50 [==============================] - 0s 2ms/step - loss: 0.4894 - accuracy: 0.7688 - val_loss: 0.4973 - val_accuracy: 0.7675\n",
            "Epoch 8/50\n",
            "50/50 [==============================] - 0s 2ms/step - loss: 0.4827 - accuracy: 0.7531 - val_loss: 0.4780 - val_accuracy: 0.7800\n",
            "Epoch 9/50\n",
            "50/50 [==============================] - 0s 2ms/step - loss: 0.4907 - accuracy: 0.7598 - val_loss: 0.4782 - val_accuracy: 0.7750\n",
            "Epoch 10/50\n",
            "50/50 [==============================] - 0s 2ms/step - loss: 0.4708 - accuracy: 0.7837 - val_loss: 0.4779 - val_accuracy: 0.7625\n",
            "Epoch 11/50\n",
            "50/50 [==============================] - 0s 2ms/step - loss: 0.4641 - accuracy: 0.7736 - val_loss: 0.4672 - val_accuracy: 0.7750\n",
            "Epoch 12/50\n",
            "50/50 [==============================] - 0s 3ms/step - loss: 0.4416 - accuracy: 0.7886 - val_loss: 0.4505 - val_accuracy: 0.7850\n",
            "Epoch 13/50\n",
            "50/50 [==============================] - 0s 3ms/step - loss: 0.4025 - accuracy: 0.8110 - val_loss: 0.4451 - val_accuracy: 0.7975\n",
            "Epoch 14/50\n",
            "50/50 [==============================] - 0s 3ms/step - loss: 0.4303 - accuracy: 0.7794 - val_loss: 0.4482 - val_accuracy: 0.7725\n",
            "Epoch 15/50\n",
            "50/50 [==============================] - 0s 3ms/step - loss: 0.4182 - accuracy: 0.8043 - val_loss: 0.4323 - val_accuracy: 0.8200\n",
            "Epoch 16/50\n",
            "50/50 [==============================] - 0s 3ms/step - loss: 0.4083 - accuracy: 0.8068 - val_loss: 0.4320 - val_accuracy: 0.8000\n",
            "Epoch 17/50\n",
            "50/50 [==============================] - 0s 3ms/step - loss: 0.4065 - accuracy: 0.8105 - val_loss: 0.4139 - val_accuracy: 0.8225\n",
            "Epoch 18/50\n",
            "50/50 [==============================] - 0s 3ms/step - loss: 0.3873 - accuracy: 0.8312 - val_loss: 0.3938 - val_accuracy: 0.8250\n",
            "Epoch 19/50\n",
            "50/50 [==============================] - 0s 3ms/step - loss: 0.3771 - accuracy: 0.8250 - val_loss: 0.3979 - val_accuracy: 0.8325\n",
            "Epoch 20/50\n",
            "50/50 [==============================] - 0s 3ms/step - loss: 0.3839 - accuracy: 0.8289 - val_loss: 0.3866 - val_accuracy: 0.8275\n",
            "Epoch 21/50\n",
            "50/50 [==============================] - 0s 3ms/step - loss: 0.3590 - accuracy: 0.8363 - val_loss: 0.3816 - val_accuracy: 0.8375\n",
            "Epoch 22/50\n",
            "50/50 [==============================] - 0s 3ms/step - loss: 0.3311 - accuracy: 0.8560 - val_loss: 0.3749 - val_accuracy: 0.8375\n",
            "Epoch 23/50\n",
            "50/50 [==============================] - 0s 3ms/step - loss: 0.3396 - accuracy: 0.8481 - val_loss: 0.3553 - val_accuracy: 0.8425\n",
            "Epoch 24/50\n",
            "50/50 [==============================] - 0s 3ms/step - loss: 0.3190 - accuracy: 0.8593 - val_loss: 0.3766 - val_accuracy: 0.8125\n",
            "Epoch 25/50\n",
            "50/50 [==============================] - 0s 3ms/step - loss: 0.3287 - accuracy: 0.8524 - val_loss: 0.3514 - val_accuracy: 0.8300\n",
            "Epoch 26/50\n",
            "50/50 [==============================] - 0s 3ms/step - loss: 0.3372 - accuracy: 0.8525 - val_loss: 0.3790 - val_accuracy: 0.8175\n",
            "Epoch 27/50\n",
            "50/50 [==============================] - 0s 2ms/step - loss: 0.3259 - accuracy: 0.8680 - val_loss: 0.3583 - val_accuracy: 0.8450\n",
            "Epoch 28/50\n",
            "50/50 [==============================] - 0s 3ms/step - loss: 0.2918 - accuracy: 0.8712 - val_loss: 0.3468 - val_accuracy: 0.8700\n",
            "Epoch 29/50\n",
            "50/50 [==============================] - 0s 3ms/step - loss: 0.3097 - accuracy: 0.8579 - val_loss: 0.3195 - val_accuracy: 0.8750\n",
            "Epoch 30/50\n",
            "50/50 [==============================] - 0s 3ms/step - loss: 0.2913 - accuracy: 0.8674 - val_loss: 0.3069 - val_accuracy: 0.8625\n",
            "Epoch 31/50\n",
            "50/50 [==============================] - 0s 3ms/step - loss: 0.2689 - accuracy: 0.8906 - val_loss: 0.2993 - val_accuracy: 0.8950\n",
            "Epoch 32/50\n",
            "50/50 [==============================] - 0s 3ms/step - loss: 0.2634 - accuracy: 0.8948 - val_loss: 0.2941 - val_accuracy: 0.8800\n",
            "Epoch 33/50\n",
            "50/50 [==============================] - 0s 3ms/step - loss: 0.2356 - accuracy: 0.9020 - val_loss: 0.2851 - val_accuracy: 0.8625\n",
            "Epoch 34/50\n",
            "50/50 [==============================] - 0s 3ms/step - loss: 0.2806 - accuracy: 0.8698 - val_loss: 0.2821 - val_accuracy: 0.8675\n",
            "Epoch 35/50\n",
            "50/50 [==============================] - 0s 3ms/step - loss: 0.2423 - accuracy: 0.8937 - val_loss: 0.2657 - val_accuracy: 0.8825\n",
            "Epoch 36/50\n",
            "50/50 [==============================] - 0s 3ms/step - loss: 0.2293 - accuracy: 0.8985 - val_loss: 0.2830 - val_accuracy: 0.8800\n",
            "Epoch 37/50\n",
            "50/50 [==============================] - 0s 3ms/step - loss: 0.2130 - accuracy: 0.9144 - val_loss: 0.2774 - val_accuracy: 0.8825\n",
            "Epoch 38/50\n",
            "50/50 [==============================] - 0s 3ms/step - loss: 0.2154 - accuracy: 0.9079 - val_loss: 0.3029 - val_accuracy: 0.8600\n",
            "Epoch 39/50\n",
            "50/50 [==============================] - 0s 3ms/step - loss: 0.2103 - accuracy: 0.9089 - val_loss: 0.2693 - val_accuracy: 0.8825\n",
            "Epoch 40/50\n",
            "50/50 [==============================] - 0s 3ms/step - loss: 0.1947 - accuracy: 0.9234 - val_loss: 0.2429 - val_accuracy: 0.8975\n",
            "Epoch 41/50\n",
            "50/50 [==============================] - 0s 2ms/step - loss: 0.2064 - accuracy: 0.9128 - val_loss: 0.2269 - val_accuracy: 0.9025\n",
            "Epoch 42/50\n",
            "50/50 [==============================] - 0s 3ms/step - loss: 0.1897 - accuracy: 0.9248 - val_loss: 0.2128 - val_accuracy: 0.9125\n",
            "Epoch 43/50\n",
            "50/50 [==============================] - 0s 6ms/step - loss: 0.1832 - accuracy: 0.9269 - val_loss: 0.2405 - val_accuracy: 0.9075\n",
            "Epoch 44/50\n",
            "50/50 [==============================] - 0s 3ms/step - loss: 0.1794 - accuracy: 0.9339 - val_loss: 0.2022 - val_accuracy: 0.9125\n",
            "Epoch 45/50\n",
            "50/50 [==============================] - 0s 3ms/step - loss: 0.1921 - accuracy: 0.9211 - val_loss: 0.2421 - val_accuracy: 0.8900\n",
            "Epoch 46/50\n",
            "50/50 [==============================] - 0s 3ms/step - loss: 0.1858 - accuracy: 0.9279 - val_loss: 0.2159 - val_accuracy: 0.9150\n",
            "Epoch 47/50\n",
            "50/50 [==============================] - 0s 3ms/step - loss: 0.1545 - accuracy: 0.9392 - val_loss: 0.2443 - val_accuracy: 0.8875\n",
            "Epoch 48/50\n",
            "50/50 [==============================] - 0s 2ms/step - loss: 0.1603 - accuracy: 0.9332 - val_loss: 0.2005 - val_accuracy: 0.9175\n",
            "Epoch 49/50\n",
            "50/50 [==============================] - 0s 3ms/step - loss: 0.1382 - accuracy: 0.9514 - val_loss: 0.1911 - val_accuracy: 0.9075\n",
            "Epoch 50/50\n",
            "50/50 [==============================] - 0s 3ms/step - loss: 0.1321 - accuracy: 0.9592 - val_loss: 0.1707 - val_accuracy: 0.9350\n"
          ],
          "name": "stdout"
        }
      ]
    },
    {
      "cell_type": "code",
      "metadata": {
        "colab": {
          "base_uri": "https://localhost:8080/",
          "height": 193
        },
        "id": "riDPabOTJ8fl",
        "outputId": "d3028b1c-e675-4788-ec2b-100fa9084759"
      },
      "source": [
        "#GRAFICO - plot loss durante treinamenti=o\r\n",
        "plt.subplot(211)\r\n",
        "plt.title('Grafico de Custo')\r\n",
        "plt.plot(history.history['loss'], label= 'Perdas durante os Treinamentos')\r\n",
        "plt.plot(history.history['val_loss'], label= 'Perdas durante os Testes')\r\n",
        "plt.xlabel('Epocas')\r\n",
        "plt.ylabel('Perdas')\r\n",
        "plt.legend"
      ],
      "execution_count": 25,
      "outputs": [
        {
          "output_type": "execute_result",
          "data": {
            "text/plain": [
              "<function matplotlib.pyplot.legend>"
            ]
          },
          "metadata": {
            "tags": []
          },
          "execution_count": 25
        },
        {
          "output_type": "display_data",
          "data": {
            "image/png": "[encoded data removed]",
            "text/plain": [
              "<Figure size 432x288 with 1 Axes>"
            ]
          },
          "metadata": {
            "tags": [],
            "needs_background": "light"
          }
        }
      ]
    },
    {
      "cell_type": "code",
      "metadata": {
        "colab": {
          "base_uri": "https://localhost:8080/",
          "height": 193
        },
        "id": "2JPWJyRMK1RD",
        "outputId": "54fbd89a-d967-44e4-8177-efda1a564b5d"
      },
      "source": [
        "#GRAFICO - plot accuracy durante treinament-\r\n",
        "plt.subplot(212)\r\n",
        "plt.title('Grafico de Desempenho')\r\n",
        "plt.plot(history.history['accuracy'], label= 'Acuracia durante os Testes')\r\n",
        "plt.plot(history.history['val_accuracy'], label= 'Acuracia durante os Testes')\r\n",
        "plt.xlabel('Epocas')\r\n",
        "plt.ylabel('Acuracia')\r\n",
        "plt.legend"
      ],
      "execution_count": 26,
      "outputs": [
        {
          "output_type": "execute_result",
          "data": {
            "text/plain": [
              "<function matplotlib.pyplot.legend>"
            ]
          },
          "metadata": {
            "tags": []
          },
          "execution_count": 26
        },
        {
          "output_type": "display_data",
          "data": {
            "image/png": "[encoded data removed]",
            "text/plain": [
              "<Figure size 432x288 with 1 Axes>"
            ]
          },
          "metadata": {
            "tags": [],
            "needs_background": "light"
          }
        }
      ]
    }
  ]
}
