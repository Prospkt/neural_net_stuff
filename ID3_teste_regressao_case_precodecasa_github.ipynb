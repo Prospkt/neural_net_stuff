{
  "nbformat": 4,
  "nbformat_minor": 0,
  "metadata": {
    "colab": {
      "name": "Cópia de  ID3_teste_regressao_case_precodecasa_github",
      "provenance": [],
      "authorship_tag": "ABX9TyPUvTpcWcTQiNgPxXae/JMT",
      "include_colab_link": true
    },
    "kernelspec": {
      "name": "python3",
      "display_name": "Python 3"
    }
  },
  "cells": [
    {
      "cell_type": "markdown",
      "metadata": {
        "id": "view-in-github",
        "colab_type": "text"
      },
      "source": [
        "<a href=\"https://colab.research.google.com/github/Prospkt/neural_net_stuff/blob/main/C%C3%B3pia_de_ID3_teste_regressao_case_precodecasa_github.ipynb\" target=\"_parent\"><img src=\"https://colab.research.google.com/assets/colab-badge.svg\" alt=\"Open In Colab\"/></a>"
      ]
    },
    {
      "cell_type": "code",
      "metadata": {
        "id": "W_SgUmdGIzCh"
      },
      "source": [
        "#Principais diferencas de classificacao pra regressao\r\n",
        "#1 - tem apenas uma saida\r\n",
        "#2 - funcao relu para iniciar e linear na saida\r\n",
        "#3 - loss e MSE "
      ],
      "execution_count": 45,
      "outputs": []
    },
    {
      "cell_type": "code",
      "metadata": {
        "id": "-qygEeg85Nax"
      },
      "source": [
        "#escolhendo bibliotecas do collab\r\n",
        "from pandas import read_csv\r\n",
        "from sklearn.model_selection import train_test_split\r\n",
        "from tensorflow.keras import Sequential\r\n",
        "from tensorflow.keras.layers import Dense\r\n",
        "import matplotlib.pyplot as plt\r\n",
        "import numpy as np\r\n"
      ],
      "execution_count": 46,
      "outputs": []
    },
    {
      "cell_type": "code",
      "metadata": {
        "colab": {
          "base_uri": "https://localhost:8080/",
          "height": 392
        },
        "id": "mcZ-lRnL-M0O",
        "outputId": "9d7c0f08-0b1d-48f7-eed9-0e7556c77816"
      },
      "source": [
        "dados = read_csv('/content/RegressaoPrecodeCasaoparateste.csv', sep=\";\")  #aqui a separacao e por ponto e virgula\r\n",
        "dados"
      ],
      "execution_count": 47,
      "outputs": [
        {
          "output_type": "execute_result",
          "data": {
            "text/html": [
              "<div>\n",
              "<style scoped>\n",
              "    .dataframe tbody tr th:only-of-type {\n",
              "        vertical-align: middle;\n",
              "    }\n",
              "\n",
              "    .dataframe tbody tr th {\n",
              "        vertical-align: top;\n",
              "    }\n",
              "\n",
              "    .dataframe thead th {\n",
              "        text-align: right;\n",
              "    }\n",
              "</style>\n",
              "<table border=\"1\" class=\"dataframe\">\n",
              "  <thead>\n",
              "    <tr style=\"text-align: right;\">\n",
              "      <th></th>\n",
              "      <th>0.00632</th>\n",
              "      <th>18</th>\n",
              "      <th>2.31</th>\n",
              "      <th>0</th>\n",
              "      <th>0.538</th>\n",
              "      <th>6.575</th>\n",
              "      <th>65.2</th>\n",
              "      <th>4.09</th>\n",
              "      <th>1</th>\n",
              "      <th>296</th>\n",
              "      <th>15.3</th>\n",
              "      <th>396.9</th>\n",
              "      <th>4.98</th>\n",
              "      <th>24</th>\n",
              "    </tr>\n",
              "  </thead>\n",
              "  <tbody>\n",
              "    <tr>\n",
              "      <th>0</th>\n",
              "      <td>0.02731</td>\n",
              "      <td>0.0</td>\n",
              "      <td>7.07</td>\n",
              "      <td>0</td>\n",
              "      <td>0.469</td>\n",
              "      <td>6.421</td>\n",
              "      <td>78.9</td>\n",
              "      <td>49.671</td>\n",
              "      <td>2</td>\n",
              "      <td>242</td>\n",
              "      <td>17.8</td>\n",
              "      <td>396.90</td>\n",
              "      <td>9.14</td>\n",
              "      <td>21.6</td>\n",
              "    </tr>\n",
              "    <tr>\n",
              "      <th>1</th>\n",
              "      <td>0.02729</td>\n",
              "      <td>0.0</td>\n",
              "      <td>7.07</td>\n",
              "      <td>0</td>\n",
              "      <td>0.469</td>\n",
              "      <td>7.185</td>\n",
              "      <td>61.1</td>\n",
              "      <td>49.671</td>\n",
              "      <td>2</td>\n",
              "      <td>242</td>\n",
              "      <td>17.8</td>\n",
              "      <td>392.83</td>\n",
              "      <td>4.03</td>\n",
              "      <td>34.7</td>\n",
              "    </tr>\n",
              "    <tr>\n",
              "      <th>2</th>\n",
              "      <td>0.03237</td>\n",
              "      <td>0.0</td>\n",
              "      <td>2.18</td>\n",
              "      <td>0</td>\n",
              "      <td>0.458</td>\n",
              "      <td>6.998</td>\n",
              "      <td>45.8</td>\n",
              "      <td>60.622</td>\n",
              "      <td>3</td>\n",
              "      <td>222</td>\n",
              "      <td>18.7</td>\n",
              "      <td>394.63</td>\n",
              "      <td>2.94</td>\n",
              "      <td>33.4</td>\n",
              "    </tr>\n",
              "    <tr>\n",
              "      <th>3</th>\n",
              "      <td>0.06905</td>\n",
              "      <td>0.0</td>\n",
              "      <td>2.18</td>\n",
              "      <td>0</td>\n",
              "      <td>0.458</td>\n",
              "      <td>7.147</td>\n",
              "      <td>54.2</td>\n",
              "      <td>60.622</td>\n",
              "      <td>3</td>\n",
              "      <td>222</td>\n",
              "      <td>18.7</td>\n",
              "      <td>396.90</td>\n",
              "      <td>5.33</td>\n",
              "      <td>36.2</td>\n",
              "    </tr>\n",
              "    <tr>\n",
              "      <th>4</th>\n",
              "      <td>0.02985</td>\n",
              "      <td>0.0</td>\n",
              "      <td>2.18</td>\n",
              "      <td>0</td>\n",
              "      <td>0.458</td>\n",
              "      <td>6.430</td>\n",
              "      <td>58.7</td>\n",
              "      <td>60.622</td>\n",
              "      <td>3</td>\n",
              "      <td>222</td>\n",
              "      <td>18.7</td>\n",
              "      <td>394.12</td>\n",
              "      <td>5.21</td>\n",
              "      <td>28.7</td>\n",
              "    </tr>\n",
              "    <tr>\n",
              "      <th>...</th>\n",
              "      <td>...</td>\n",
              "      <td>...</td>\n",
              "      <td>...</td>\n",
              "      <td>...</td>\n",
              "      <td>...</td>\n",
              "      <td>...</td>\n",
              "      <td>...</td>\n",
              "      <td>...</td>\n",
              "      <td>...</td>\n",
              "      <td>...</td>\n",
              "      <td>...</td>\n",
              "      <td>...</td>\n",
              "      <td>...</td>\n",
              "      <td>...</td>\n",
              "    </tr>\n",
              "    <tr>\n",
              "      <th>490</th>\n",
              "      <td>0.10574</td>\n",
              "      <td>0.0</td>\n",
              "      <td>27.74</td>\n",
              "      <td>0</td>\n",
              "      <td>0.609</td>\n",
              "      <td>5.983</td>\n",
              "      <td>98.8</td>\n",
              "      <td>18.681</td>\n",
              "      <td>4</td>\n",
              "      <td>711</td>\n",
              "      <td>20.1</td>\n",
              "      <td>390.11</td>\n",
              "      <td>18.07</td>\n",
              "      <td>13.6</td>\n",
              "    </tr>\n",
              "    <tr>\n",
              "      <th>491</th>\n",
              "      <td>0.11132</td>\n",
              "      <td>0.0</td>\n",
              "      <td>27.74</td>\n",
              "      <td>0</td>\n",
              "      <td>0.609</td>\n",
              "      <td>5.983</td>\n",
              "      <td>83.5</td>\n",
              "      <td>21.099</td>\n",
              "      <td>4</td>\n",
              "      <td>711</td>\n",
              "      <td>20.1</td>\n",
              "      <td>396.90</td>\n",
              "      <td>13.35</td>\n",
              "      <td>20.1</td>\n",
              "    </tr>\n",
              "    <tr>\n",
              "      <th>492</th>\n",
              "      <td>0.17331</td>\n",
              "      <td>0.0</td>\n",
              "      <td>9.69</td>\n",
              "      <td>0</td>\n",
              "      <td>0.585</td>\n",
              "      <td>5.707</td>\n",
              "      <td>54.0</td>\n",
              "      <td>23.817</td>\n",
              "      <td>6</td>\n",
              "      <td>391</td>\n",
              "      <td>19.2</td>\n",
              "      <td>396.90</td>\n",
              "      <td>12.01</td>\n",
              "      <td>21.8</td>\n",
              "    </tr>\n",
              "    <tr>\n",
              "      <th>493</th>\n",
              "      <td>0.27957</td>\n",
              "      <td>0.0</td>\n",
              "      <td>9.69</td>\n",
              "      <td>0</td>\n",
              "      <td>0.585</td>\n",
              "      <td>5.926</td>\n",
              "      <td>42.6</td>\n",
              "      <td>23.817</td>\n",
              "      <td>6</td>\n",
              "      <td>391</td>\n",
              "      <td>19.2</td>\n",
              "      <td>396.90</td>\n",
              "      <td>13.59</td>\n",
              "      <td>24.5</td>\n",
              "    </tr>\n",
              "    <tr>\n",
              "      <th>494</th>\n",
              "      <td>0.17899</td>\n",
              "      <td>0.0</td>\n",
              "      <td>9.69</td>\n",
              "      <td>0</td>\n",
              "      <td>0.585</td>\n",
              "      <td>5.670</td>\n",
              "      <td>28.8</td>\n",
              "      <td>27.986</td>\n",
              "      <td>6</td>\n",
              "      <td>391</td>\n",
              "      <td>19.2</td>\n",
              "      <td>393.29</td>\n",
              "      <td>17.60</td>\n",
              "      <td>23.1</td>\n",
              "    </tr>\n",
              "  </tbody>\n",
              "</table>\n",
              "<p>495 rows × 14 columns</p>\n",
              "</div>"
            ],
            "text/plain": [
              "     0.00632   18   2.31  0  0.538  6.575  ...  1  296  15.3   396.9   4.98    24\n",
              "0    0.02731  0.0   7.07  0  0.469  6.421  ...  2  242  17.8  396.90   9.14  21.6\n",
              "1    0.02729  0.0   7.07  0  0.469  7.185  ...  2  242  17.8  392.83   4.03  34.7\n",
              "2    0.03237  0.0   2.18  0  0.458  6.998  ...  3  222  18.7  394.63   2.94  33.4\n",
              "3    0.06905  0.0   2.18  0  0.458  7.147  ...  3  222  18.7  396.90   5.33  36.2\n",
              "4    0.02985  0.0   2.18  0  0.458  6.430  ...  3  222  18.7  394.12   5.21  28.7\n",
              "..       ...  ...    ... ..    ...    ...  ... ..  ...   ...     ...    ...   ...\n",
              "490  0.10574  0.0  27.74  0  0.609  5.983  ...  4  711  20.1  390.11  18.07  13.6\n",
              "491  0.11132  0.0  27.74  0  0.609  5.983  ...  4  711  20.1  396.90  13.35  20.1\n",
              "492  0.17331  0.0   9.69  0  0.585  5.707  ...  6  391  19.2  396.90  12.01  21.8\n",
              "493  0.27957  0.0   9.69  0  0.585  5.926  ...  6  391  19.2  396.90  13.59  24.5\n",
              "494  0.17899  0.0   9.69  0  0.585  5.670  ...  6  391  19.2  393.29  17.60  23.1\n",
              "\n",
              "[495 rows x 14 columns]"
            ]
          },
          "metadata": {
            "tags": []
          },
          "execution_count": 47
        }
      ]
    },
    {
      "cell_type": "code",
      "metadata": {
        "id": "WQy_upGF_AUs",
        "colab": {
          "base_uri": "https://localhost:8080/"
        },
        "outputId": "94da500c-5ee9-4860-e0e5-8f8e65755d36"
      },
      "source": [
        "X = dados.values[:,0:13]\r\n",
        "y = dados.values[:,13]\r\n",
        "y"
      ],
      "execution_count": 48,
      "outputs": [
        {
          "output_type": "execute_result",
          "data": {
            "text/plain": [
              "array([21.6, 34.7, 33.4, 36.2, 28.7, 22.9, 27.1, 16.5, 18.9, 15. , 18.9,\n",
              "       21.7, 20.4, 18.2, 19.9, 23.1, 17.5, 20.2, 18.2, 13.6, 19.6, 15.2,\n",
              "       14.5, 15.6, 13.9, 16.6, 14.8, 18.4, 21. , 12.7, 14.5, 13.2, 13.1,\n",
              "       13.5, 18.9, 20. , 21. , 24.7, 30.8, 34.9, 26.6, 25.3, 24.7, 21.2,\n",
              "       19.3, 20. , 16.6, 14.4, 19.4, 19.7, 20.5, 25. , 23.4, 18.9, 35.4,\n",
              "       24.7, 31.6, 23.3, 19.6, 18.7, 16. , 22.2, 25. , 33. , 23.5, 19.4,\n",
              "       22. , 17.4, 20.9, 24.2, 21.7, 22.8, 23.4, 24.1, 21.4, 20. , 20.8,\n",
              "       21.2, 20.3, 28. , 23.9, 24.8, 22.9, 23.9, 26.6, 22.5, 22.2, 23.6,\n",
              "       28.7, 22.6, 22. , 22.9, 25. , 20.6, 28.4, 21.4, 38.7, 43.8, 33.2,\n",
              "       27.5, 26.5, 18.6, 19.3, 20.1, 19.5, 19.5, 20.4, 19.8, 19.4, 21.7,\n",
              "       22.8, 18.8, 18.7, 18.5, 18.3, 21.2, 19.2, 20.4, 19.3, 22. , 20.3,\n",
              "       20.5, 17.3, 18.8, 21.4, 15.7, 16.2, 18. , 14.3, 19.2, 19.6, 23. ,\n",
              "       18.4, 15.6, 18.1, 17.4, 17.1, 13.3, 17.8, 14. , 14.4, 13.4, 15.6,\n",
              "       11.8, 13.8, 15.6, 14.6, 17.8, 15.4, 21.5, 19.6, 15.3, 19.4, 17. ,\n",
              "       15.6, 13.1, 41.3, 24.3, 23.3, 27. , 50. , 50. , 50. , 22.7, 25. ,\n",
              "       50. , 23.8, 23.8, 22.3, 17.4, 19.1, 23.1, 23.6, 22.6, 29.4, 23.2,\n",
              "       24.6, 29.9, 37.2, 39.8, 36.2, 37.9, 32.5, 26.4, 29.6, 50. , 32. ,\n",
              "       29.8, 34.9, 37. , 30.5, 36.4, 31.1, 29.1, 50. , 33.3, 30.3, 34.6,\n",
              "       34.9, 32.9, 24.1, 42.3, 48.5, 50. , 22.6, 24.4, 22.5, 24.4, 20. ,\n",
              "       21.7, 19.3, 22.4, 28.1, 23.7, 25. , 23.3, 28.7, 21.5, 23. , 26.7,\n",
              "       21.7, 27.5, 30.1, 44.8, 50. , 37.6, 31.6, 46.7, 31.5, 24.3, 31.7,\n",
              "       41.7, 48.3, 29. , 24. , 25.1, 31.5, 23.7, 23.3, 22. , 20.1, 22.2,\n",
              "       23.7, 17.6, 18.5, 24.3, 20.5, 24.5, 26.2, 24.4, 24.8, 29.6, 42.8,\n",
              "       21.9, 20.9, 44. , 50. , 36. , 30.1, 33.8, 43.1, 48.8, 31. , 36.5,\n",
              "       22.8, 30.7, 50. , 43.5, 20.7, 21.1, 25.2, 24.4, 35.2, 32.4, 32. ,\n",
              "       33.2, 33.1, 29.1, 35.1, 45.4, 35.4, 46. , 50. , 32.2, 22. , 20.1,\n",
              "       23.2, 22.3, 24.8, 28.5, 37.3, 27.9, 23.9, 21.7, 28.6, 27.1, 20.3,\n",
              "       22.5, 29. , 24.8, 22. , 26.4, 33.1, 36.1, 28.4, 33.4, 28.2, 22.8,\n",
              "       20.3, 16.1, 22.1, 19.4, 21.6, 23.8, 16.2, 17.8, 19.8, 23.1, 21. ,\n",
              "       23.8, 23.1, 20.4, 18.5, 25. , 24.6, 23. , 22.2, 19.3, 22.6, 19.8,\n",
              "       17.1, 19.4, 22.2, 20.7, 21.1, 19.5, 18.5, 20.6, 19. , 18.7, 32.7,\n",
              "       16.5, 23.9, 31.2, 17.5, 17.2, 23.1, 24.5, 26.6, 22.9, 24.1, 18.6,\n",
              "       30.1, 18.2, 20.6, 17.8, 21.7, 22.7, 22.6, 25. , 19.9, 20.8, 16.8,\n",
              "       21.9, 27.5, 21.9, 23.1, 50. , 50. , 50. , 50. , 50. , 13.8, 13.8,\n",
              "       15. , 13.9, 13.3, 13.1, 10.2, 10.4, 10.9, 11.3, 12.3,  8.8,  7.2,\n",
              "       10.5,  7.4, 10.2, 11.5, 15.1, 23.2,  9.7, 13.8, 12.7, 13.1, 12.5,\n",
              "        8.5,  5. ,  6.3,  5.6,  7.2, 12.1,  8.3,  8.5,  5. , 11.9, 27.9,\n",
              "       17.2, 27.5, 15. , 17.2, 17.9, 16.3,  7. ,  7.2,  7.5, 10.4,  8.8,\n",
              "        8.4, 16.7, 14.2, 20.8, 13.4, 11.7,  8.3, 10.2, 10.9, 11. ,  9.5,\n",
              "       14.5, 14.1, 16.1, 14.3, 11.7, 13.4,  9.6,  8.7,  8.4, 12.8, 10.5,\n",
              "       17.1, 18.4, 15.4, 10.8, 11.8, 14.9, 12.6, 14.1, 13. , 13.4, 15.2,\n",
              "       16.1, 17.8, 14.9, 14.1, 12.7, 13.5, 14.9, 20. , 16.4, 17.7, 19.5,\n",
              "       20.2, 21.4, 19.9, 19. , 19.1, 19.1, 20.1, 19.9, 19.6, 23.2, 29.8,\n",
              "       13.8, 13.3, 16.7, 12. , 14.6, 21.4, 23. , 23.7, 25. , 21.8, 20.6,\n",
              "       21.2, 19.1, 20.6, 15.2,  7. ,  8.1, 13.6, 20.1, 21.8, 24.5, 23.1])"
            ]
          },
          "metadata": {
            "tags": []
          },
          "execution_count": 48
        }
      ]
    },
    {
      "cell_type": "code",
      "metadata": {
        "id": "tvwMOIAV_rla"
      },
      "source": [
        "# Geracao dos arquivos de treino, teste e validacao\r\n",
        "X_train, X_test, y_train, y_test = train_test_split(X, y, test_size=0.20) "
      ],
      "execution_count": 49,
      "outputs": []
    },
    {
      "cell_type": "code",
      "metadata": {
        "id": "LKECHynBA06S"
      },
      "source": [
        "# Geracao do modelo \r\n",
        "model = Sequential() #deeplearning\r\n",
        "model.add(Dense(200, input_dim=13,activation= 'relu', kernel_initializer= 'normal')) # NEW!! usando relu para regressao e melhor esse iput_dim e diferente de input shade\r\n",
        "model.add(Dense(200, activation = 'relu'))\r\n",
        "model.add(Dense(1, activation= 'linear'))  #NEW! Na regressao so tem uma possibilidade de saida "
      ],
      "execution_count": 50,
      "outputs": []
    },
    {
      "cell_type": "code",
      "metadata": {
        "id": "Fhxc6J-LClAh"
      },
      "source": [
        "# Compilacao do modelo \r\n",
        "model.compile(optimizer='adam', loss='mse')\r\n"
      ],
      "execution_count": 51,
      "outputs": []
    },
    {
      "cell_type": "code",
      "metadata": {
        "colab": {
          "base_uri": "https://localhost:8080/"
        },
        "id": "GHT6B2JwDwtJ",
        "outputId": "66c22840-8543-48dc-e3e7-fbde38ca3ed5"
      },
      "source": [
        "history = model.fit(X_train, y_train, validation_data=(X_test, y_test), epochs=30, batch_size=32, verbose=1)"
      ],
      "execution_count": 52,
      "outputs": [
        {
          "output_type": "stream",
          "text": [
            "Epoch 1/30\n",
            "13/13 [==============================] - 0s 14ms/step - loss: 235.2282 - val_loss: 99.2806\n",
            "Epoch 2/30\n",
            "13/13 [==============================] - 0s 5ms/step - loss: 127.2768 - val_loss: 52.1323\n",
            "Epoch 3/30\n",
            "13/13 [==============================] - 0s 5ms/step - loss: 107.0324 - val_loss: 41.6089\n",
            "Epoch 4/30\n",
            "13/13 [==============================] - 0s 5ms/step - loss: 70.0114 - val_loss: 40.1318\n",
            "Epoch 5/30\n",
            "13/13 [==============================] - 0s 5ms/step - loss: 67.1587 - val_loss: 38.6572\n",
            "Epoch 6/30\n",
            "13/13 [==============================] - 0s 5ms/step - loss: 61.7615 - val_loss: 33.6278\n",
            "Epoch 7/30\n",
            "13/13 [==============================] - 0s 5ms/step - loss: 53.1177 - val_loss: 51.5185\n",
            "Epoch 8/30\n",
            "13/13 [==============================] - 0s 5ms/step - loss: 69.7230 - val_loss: 30.2952\n",
            "Epoch 9/30\n",
            "13/13 [==============================] - 0s 5ms/step - loss: 56.8093 - val_loss: 39.8003\n",
            "Epoch 10/30\n",
            "13/13 [==============================] - 0s 5ms/step - loss: 53.1097 - val_loss: 38.7434\n",
            "Epoch 11/30\n",
            "13/13 [==============================] - 0s 5ms/step - loss: 52.6080 - val_loss: 31.6599\n",
            "Epoch 12/30\n",
            "13/13 [==============================] - 0s 5ms/step - loss: 49.7957 - val_loss: 30.4324\n",
            "Epoch 13/30\n",
            "13/13 [==============================] - 0s 4ms/step - loss: 45.4371 - val_loss: 26.2397\n",
            "Epoch 14/30\n",
            "13/13 [==============================] - 0s 5ms/step - loss: 47.7607 - val_loss: 30.3198\n",
            "Epoch 15/30\n",
            "13/13 [==============================] - 0s 5ms/step - loss: 40.1898 - val_loss: 24.5730\n",
            "Epoch 16/30\n",
            "13/13 [==============================] - 0s 5ms/step - loss: 39.9047 - val_loss: 30.8536\n",
            "Epoch 17/30\n",
            "13/13 [==============================] - 0s 4ms/step - loss: 40.7331 - val_loss: 24.7653\n",
            "Epoch 18/30\n",
            "13/13 [==============================] - 0s 5ms/step - loss: 46.2949 - val_loss: 22.6378\n",
            "Epoch 19/30\n",
            "13/13 [==============================] - 0s 5ms/step - loss: 38.8145 - val_loss: 21.5954\n",
            "Epoch 20/30\n",
            "13/13 [==============================] - 0s 17ms/step - loss: 41.4240 - val_loss: 31.4190\n",
            "Epoch 21/30\n",
            "13/13 [==============================] - 0s 5ms/step - loss: 40.4079 - val_loss: 43.4121\n",
            "Epoch 22/30\n",
            "13/13 [==============================] - 0s 5ms/step - loss: 38.2104 - val_loss: 20.8489\n",
            "Epoch 23/30\n",
            "13/13 [==============================] - 0s 5ms/step - loss: 45.0590 - val_loss: 46.7624\n",
            "Epoch 24/30\n",
            "13/13 [==============================] - 0s 4ms/step - loss: 39.2238 - val_loss: 22.3816\n",
            "Epoch 25/30\n",
            "13/13 [==============================] - 0s 5ms/step - loss: 31.5888 - val_loss: 21.3775\n",
            "Epoch 26/30\n",
            "13/13 [==============================] - 0s 4ms/step - loss: 33.1148 - val_loss: 28.6761\n",
            "Epoch 27/30\n",
            "13/13 [==============================] - 0s 4ms/step - loss: 36.9264 - val_loss: 35.3675\n",
            "Epoch 28/30\n",
            "13/13 [==============================] - 0s 5ms/step - loss: 41.1986 - val_loss: 25.1713\n",
            "Epoch 29/30\n",
            "13/13 [==============================] - 0s 5ms/step - loss: 43.8874 - val_loss: 19.7918\n",
            "Epoch 30/30\n",
            "13/13 [==============================] - 0s 7ms/step - loss: 31.9559 - val_loss: 37.7952\n"
          ],
          "name": "stdout"
        }
      ]
    },
    {
      "cell_type": "code",
      "metadata": {
        "colab": {
          "base_uri": "https://localhost:8080/",
          "height": 193
        },
        "id": "riDPabOTJ8fl",
        "outputId": "b759d214-c0b5-434b-a759-9033c4d7abee"
      },
      "source": [
        "#GRAFICO - plot loss durante treinamenti=o\r\n",
        "plt.subplot(211)\r\n",
        "plt.title('Grafico de Custo')\r\n",
        "plt.plot(history.history['loss'], label= 'Perdas durante os Treinamentos')\r\n",
        "plt.plot(history.history['val_loss'], label= 'Perdas durante os Testes')\r\n",
        "plt.xlabel('Epocas')\r\n",
        "plt.ylabel('Perdas')\r\n",
        "plt.legend"
      ],
      "execution_count": 53,
      "outputs": [
        {
          "output_type": "execute_result",
          "data": {
            "text/plain": [
              "<function matplotlib.pyplot.legend>"
            ]
          },
          "metadata": {
            "tags": []
          },
          "execution_count": 53
        },
        {
          "output_type": "display_data",
          "data": {
            "image/png": "[encoded data removed]",
            "text/plain": [
              "<Figure size 432x288 with 1 Axes>"
            ]
          },
          "metadata": {
            "tags": [],
            "needs_background": "light"
          }
        }
      ]
    },
    {
      "cell_type": "code",
      "metadata": {
        "colab": {
          "base_uri": "https://localhost:8080/"
        },
        "id": "9GNEbnM-lqiw",
        "outputId": "32d6cb49-96cc-4595-a9be-47506e6218bf"
      },
      "source": [
        "teste = np.array([[0.2896,0,9.69,0,0.585,5.39,72.9,27.986,6,391,19.2,396.9,21.14]])\r\n",
        "saidacasa = model.predict(teste)\r\n",
        "saidacasa"
      ],
      "execution_count": 54,
      "outputs": [
        {
          "output_type": "execute_result",
          "data": {
            "text/plain": [
              "array([[18.453268]], dtype=float32)"
            ]
          },
          "metadata": {
            "tags": []
          },
          "execution_count": 54
        }
      ]
    },
    {
      "cell_type": "code",
      "metadata": {
        "colab": {
          "base_uri": "https://localhost:8080/"
        },
        "id": "8lW0uZKGzVcA",
        "outputId": "5221d132-83f0-481a-ac3e-9b5da7dd77f6"
      },
      "source": [
        "teste = np.array([[0.06076, 0, 11.93, 0, 0.573, 6.976, 91, 21.675, 1, 273, 21, 396.90, 5.64]])\r\n",
        "saidacasa = model.predict(teste)\r\n",
        "saidacasa"
      ],
      "execution_count": 55,
      "outputs": [
        {
          "output_type": "execute_result",
          "data": {
            "text/plain": [
              "array([[35.390682]], dtype=float32)"
            ]
          },
          "metadata": {
            "tags": []
          },
          "execution_count": 55
        }
      ]
    }
  ]
}
