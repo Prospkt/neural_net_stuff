{
  "nbformat": 4,
  "nbformat_minor": 0,
  "metadata": {
    "colab": {
      "name": "ID2_classificao_multiclasse_case_iris_github",
      "provenance": [],
      "authorship_tag": "ABX9TyO0cmdTNRQCoTNBytyh5b8G",
      "include_colab_link": true
    },
    "kernelspec": {
      "name": "python3",
      "display_name": "Python 3"
    }
  },
  "cells": [
    {
      "cell_type": "markdown",
      "metadata": {
        "id": "view-in-github",
        "colab_type": "text"
      },
      "source": [
        "<a href=\"https://colab.research.google.com/github/Prospkt/neural_net_stuff/blob/main/ID2_classificao_multiclasse_case_iris_github.ipynb\" target=\"_parent\"><img src=\"https://colab.research.google.com/assets/colab-badge.svg\" alt=\"Open In Colab\"/></a>"
      ]
    },
    {
      "cell_type": "code",
      "metadata": {
        "id": "W_SgUmdGIzCh"
      },
      "source": [
        "#Principais diferencas de classificacao Binaria que foram feitas ( diabete e derramamento)\r\n",
        "#1 - tem mais de 3 saidas\r\n",
        "#2 - neste caso as saidas estao em nome"
      ],
      "execution_count": 38,
      "outputs": []
    },
    {
      "cell_type": "code",
      "metadata": {
        "id": "-qygEeg85Nax"
      },
      "source": [
        "#escolhendo bibliotecas do collab\r\n",
        "from pandas import read_csv\r\n",
        "from sklearn.model_selection import train_test_split\r\n",
        "from tensorflow.keras import Sequential\r\n",
        "from tensorflow.keras.layers import Dense\r\n",
        "import matplotlib.pyplot as plt\r\n",
        "from sklearn.preprocessing import LabelEncoder  # NEW! lidar com transformacao de palavras ( saidas nome iris)\r\n",
        "from keras.utils import np_utils  #NEW! com transformacao de palavras ( saidas nome iris)\r\n"
      ],
      "execution_count": 40,
      "outputs": []
    },
    {
      "cell_type": "code",
      "metadata": {
        "colab": {
          "base_uri": "https://localhost:8080/",
          "height": 392
        },
        "id": "mcZ-lRnL-M0O",
        "outputId": "0761156d-d5a3-4f28-e198-3961ff4d1d9d"
      },
      "source": [
        "dados = read_csv('/content/irisflower (1).data', sep=\",\")\r\n",
        "dados"
      ],
      "execution_count": 41,
      "outputs": [
        {
          "output_type": "execute_result",
          "data": {
            "text/html": [
              "<div>\n",
              "<style scoped>\n",
              "    .dataframe tbody tr th:only-of-type {\n",
              "        vertical-align: middle;\n",
              "    }\n",
              "\n",
              "    .dataframe tbody tr th {\n",
              "        vertical-align: top;\n",
              "    }\n",
              "\n",
              "    .dataframe thead th {\n",
              "        text-align: right;\n",
              "    }\n",
              "</style>\n",
              "<table border=\"1\" class=\"dataframe\">\n",
              "  <thead>\n",
              "    <tr style=\"text-align: right;\">\n",
              "      <th></th>\n",
              "      <th>5.1</th>\n",
              "      <th>3.5</th>\n",
              "      <th>1.4</th>\n",
              "      <th>0.2</th>\n",
              "      <th>Iris-setosa</th>\n",
              "    </tr>\n",
              "  </thead>\n",
              "  <tbody>\n",
              "    <tr>\n",
              "      <th>0</th>\n",
              "      <td>4.9</td>\n",
              "      <td>3.0</td>\n",
              "      <td>1.4</td>\n",
              "      <td>0.2</td>\n",
              "      <td>Iris-setosa</td>\n",
              "    </tr>\n",
              "    <tr>\n",
              "      <th>1</th>\n",
              "      <td>4.7</td>\n",
              "      <td>3.2</td>\n",
              "      <td>1.3</td>\n",
              "      <td>0.2</td>\n",
              "      <td>Iris-setosa</td>\n",
              "    </tr>\n",
              "    <tr>\n",
              "      <th>2</th>\n",
              "      <td>4.6</td>\n",
              "      <td>3.1</td>\n",
              "      <td>1.5</td>\n",
              "      <td>0.2</td>\n",
              "      <td>Iris-setosa</td>\n",
              "    </tr>\n",
              "    <tr>\n",
              "      <th>3</th>\n",
              "      <td>5.0</td>\n",
              "      <td>3.6</td>\n",
              "      <td>1.4</td>\n",
              "      <td>0.2</td>\n",
              "      <td>Iris-setosa</td>\n",
              "    </tr>\n",
              "    <tr>\n",
              "      <th>4</th>\n",
              "      <td>5.4</td>\n",
              "      <td>3.9</td>\n",
              "      <td>1.7</td>\n",
              "      <td>0.4</td>\n",
              "      <td>Iris-setosa</td>\n",
              "    </tr>\n",
              "    <tr>\n",
              "      <th>...</th>\n",
              "      <td>...</td>\n",
              "      <td>...</td>\n",
              "      <td>...</td>\n",
              "      <td>...</td>\n",
              "      <td>...</td>\n",
              "    </tr>\n",
              "    <tr>\n",
              "      <th>144</th>\n",
              "      <td>6.7</td>\n",
              "      <td>3.0</td>\n",
              "      <td>5.2</td>\n",
              "      <td>2.3</td>\n",
              "      <td>Iris-virginica</td>\n",
              "    </tr>\n",
              "    <tr>\n",
              "      <th>145</th>\n",
              "      <td>6.3</td>\n",
              "      <td>2.5</td>\n",
              "      <td>5.0</td>\n",
              "      <td>1.9</td>\n",
              "      <td>Iris-virginica</td>\n",
              "    </tr>\n",
              "    <tr>\n",
              "      <th>146</th>\n",
              "      <td>6.5</td>\n",
              "      <td>3.0</td>\n",
              "      <td>5.2</td>\n",
              "      <td>2.0</td>\n",
              "      <td>Iris-virginica</td>\n",
              "    </tr>\n",
              "    <tr>\n",
              "      <th>147</th>\n",
              "      <td>6.2</td>\n",
              "      <td>3.4</td>\n",
              "      <td>5.4</td>\n",
              "      <td>2.3</td>\n",
              "      <td>Iris-virginica</td>\n",
              "    </tr>\n",
              "    <tr>\n",
              "      <th>148</th>\n",
              "      <td>5.9</td>\n",
              "      <td>3.0</td>\n",
              "      <td>5.1</td>\n",
              "      <td>1.8</td>\n",
              "      <td>Iris-virginica</td>\n",
              "    </tr>\n",
              "  </tbody>\n",
              "</table>\n",
              "<p>149 rows × 5 columns</p>\n",
              "</div>"
            ],
            "text/plain": [
              "     5.1  3.5  1.4  0.2     Iris-setosa\n",
              "0    4.9  3.0  1.4  0.2     Iris-setosa\n",
              "1    4.7  3.2  1.3  0.2     Iris-setosa\n",
              "2    4.6  3.1  1.5  0.2     Iris-setosa\n",
              "3    5.0  3.6  1.4  0.2     Iris-setosa\n",
              "4    5.4  3.9  1.7  0.4     Iris-setosa\n",
              "..   ...  ...  ...  ...             ...\n",
              "144  6.7  3.0  5.2  2.3  Iris-virginica\n",
              "145  6.3  2.5  5.0  1.9  Iris-virginica\n",
              "146  6.5  3.0  5.2  2.0  Iris-virginica\n",
              "147  6.2  3.4  5.4  2.3  Iris-virginica\n",
              "148  5.9  3.0  5.1  1.8  Iris-virginica\n",
              "\n",
              "[149 rows x 5 columns]"
            ]
          },
          "metadata": {
            "tags": []
          },
          "execution_count": 41
        }
      ]
    },
    {
      "cell_type": "code",
      "metadata": {
        "id": "WQy_upGF_AUs",
        "colab": {
          "base_uri": "https://localhost:8080/"
        },
        "outputId": "27f00963-7f86-486f-c41f-268fb87ecf18"
      },
      "source": [
        "X = dados.values[:,0:4]\r\n",
        "y = dados.values[:,4]\r\n"
      ],
      "execution_count": 42,
      "outputs": [
        {
          "output_type": "execute_result",
          "data": {
            "text/plain": [
              "array(['Iris-setosa', 'Iris-setosa', 'Iris-setosa', 'Iris-setosa',\n",
              "       'Iris-setosa', 'Iris-setosa', 'Iris-setosa', 'Iris-setosa',\n",
              "       'Iris-setosa', 'Iris-setosa', 'Iris-setosa', 'Iris-setosa',\n",
              "       'Iris-setosa', 'Iris-setosa', 'Iris-setosa', 'Iris-setosa',\n",
              "       'Iris-setosa', 'Iris-setosa', 'Iris-setosa', 'Iris-setosa',\n",
              "       'Iris-setosa', 'Iris-setosa', 'Iris-setosa', 'Iris-setosa',\n",
              "       'Iris-setosa', 'Iris-setosa', 'Iris-setosa', 'Iris-setosa',\n",
              "       'Iris-setosa', 'Iris-setosa', 'Iris-setosa', 'Iris-setosa',\n",
              "       'Iris-setosa', 'Iris-setosa', 'Iris-setosa', 'Iris-setosa',\n",
              "       'Iris-setosa', 'Iris-setosa', 'Iris-setosa', 'Iris-setosa',\n",
              "       'Iris-setosa', 'Iris-setosa', 'Iris-setosa', 'Iris-setosa',\n",
              "       'Iris-setosa', 'Iris-setosa', 'Iris-setosa', 'Iris-setosa',\n",
              "       'Iris-setosa', 'Iris-versicolor', 'Iris-versicolor',\n",
              "       'Iris-versicolor', 'Iris-versicolor', 'Iris-versicolor',\n",
              "       'Iris-versicolor', 'Iris-versicolor', 'Iris-versicolor',\n",
              "       'Iris-versicolor', 'Iris-versicolor', 'Iris-versicolor',\n",
              "       'Iris-versicolor', 'Iris-versicolor', 'Iris-versicolor',\n",
              "       'Iris-versicolor', 'Iris-versicolor', 'Iris-versicolor',\n",
              "       'Iris-versicolor', 'Iris-versicolor', 'Iris-versicolor',\n",
              "       'Iris-versicolor', 'Iris-versicolor', 'Iris-versicolor',\n",
              "       'Iris-versicolor', 'Iris-versicolor', 'Iris-versicolor',\n",
              "       'Iris-versicolor', 'Iris-versicolor', 'Iris-versicolor',\n",
              "       'Iris-versicolor', 'Iris-versicolor', 'Iris-versicolor',\n",
              "       'Iris-versicolor', 'Iris-versicolor', 'Iris-versicolor',\n",
              "       'Iris-versicolor', 'Iris-versicolor', 'Iris-versicolor',\n",
              "       'Iris-versicolor', 'Iris-versicolor', 'Iris-versicolor',\n",
              "       'Iris-versicolor', 'Iris-versicolor', 'Iris-versicolor',\n",
              "       'Iris-versicolor', 'Iris-versicolor', 'Iris-versicolor',\n",
              "       'Iris-versicolor', 'Iris-versicolor', 'Iris-versicolor',\n",
              "       'Iris-virginica', 'Iris-virginica', 'Iris-virginica',\n",
              "       'Iris-virginica', 'Iris-virginica', 'Iris-virginica',\n",
              "       'Iris-virginica', 'Iris-virginica', 'Iris-virginica',\n",
              "       'Iris-virginica', 'Iris-virginica', 'Iris-virginica',\n",
              "       'Iris-virginica', 'Iris-virginica', 'Iris-virginica',\n",
              "       'Iris-virginica', 'Iris-virginica', 'Iris-virginica',\n",
              "       'Iris-virginica', 'Iris-virginica', 'Iris-virginica',\n",
              "       'Iris-virginica', 'Iris-virginica', 'Iris-virginica',\n",
              "       'Iris-virginica', 'Iris-virginica', 'Iris-virginica',\n",
              "       'Iris-virginica', 'Iris-virginica', 'Iris-virginica',\n",
              "       'Iris-virginica', 'Iris-virginica', 'Iris-virginica',\n",
              "       'Iris-virginica', 'Iris-virginica', 'Iris-virginica',\n",
              "       'Iris-virginica', 'Iris-virginica', 'Iris-virginica',\n",
              "       'Iris-virginica', 'Iris-virginica', 'Iris-virginica',\n",
              "       'Iris-virginica', 'Iris-virginica', 'Iris-virginica',\n",
              "       'Iris-virginica', 'Iris-virginica', 'Iris-virginica',\n",
              "       'Iris-virginica', 'Iris-virginica'], dtype=object)"
            ]
          },
          "metadata": {
            "tags": []
          },
          "execution_count": 42
        }
      ]
    },
    {
      "cell_type": "code",
      "metadata": {
        "id": "ZqG1R3jIPb_o"
      },
      "source": [
        "#Lidando com erro de float \r\n",
        "X = X.astype('float32') #NEW! Para evitar um erro de float que ocorria embaixo"
      ],
      "execution_count": 43,
      "outputs": []
    },
    {
      "cell_type": "code",
      "metadata": {
        "colab": {
          "base_uri": "https://localhost:8080/"
        },
        "id": "DbGQj1liKH1l",
        "outputId": "8b74007b-0fcc-4d5f-fd91-00dc3ffaf20b"
      },
      "source": [
        "#NEW! Lidando com a questao das saidas serem palavras \r\n",
        "encoder = LabelEncoder()\r\n",
        "encoder.fit(y)\r\n",
        "encoded_Y = encoder.transform(y)\r\n",
        "#converter os nomes das flores em numero\r\n",
        "y2 = np_utils.to_categorical(encoded_Y)\r\n",
        "y2 #aqui pode ver que as palavras foram transformadas e chama y2"
      ],
      "execution_count": 44,
      "outputs": [
        {
          "output_type": "execute_result",
          "data": {
            "text/plain": [
              "array([[1., 0., 0.],\n",
              "       [1., 0., 0.],\n",
              "       [1., 0., 0.],\n",
              "       [1., 0., 0.],\n",
              "       [1., 0., 0.],\n",
              "       [1., 0., 0.],\n",
              "       [1., 0., 0.],\n",
              "       [1., 0., 0.],\n",
              "       [1., 0., 0.],\n",
              "       [1., 0., 0.],\n",
              "       [1., 0., 0.],\n",
              "       [1., 0., 0.],\n",
              "       [1., 0., 0.],\n",
              "       [1., 0., 0.],\n",
              "       [1., 0., 0.],\n",
              "       [1., 0., 0.],\n",
              "       [1., 0., 0.],\n",
              "       [1., 0., 0.],\n",
              "       [1., 0., 0.],\n",
              "       [1., 0., 0.],\n",
              "       [1., 0., 0.],\n",
              "       [1., 0., 0.],\n",
              "       [1., 0., 0.],\n",
              "       [1., 0., 0.],\n",
              "       [1., 0., 0.],\n",
              "       [1., 0., 0.],\n",
              "       [1., 0., 0.],\n",
              "       [1., 0., 0.],\n",
              "       [1., 0., 0.],\n",
              "       [1., 0., 0.],\n",
              "       [1., 0., 0.],\n",
              "       [1., 0., 0.],\n",
              "       [1., 0., 0.],\n",
              "       [1., 0., 0.],\n",
              "       [1., 0., 0.],\n",
              "       [1., 0., 0.],\n",
              "       [1., 0., 0.],\n",
              "       [1., 0., 0.],\n",
              "       [1., 0., 0.],\n",
              "       [1., 0., 0.],\n",
              "       [1., 0., 0.],\n",
              "       [1., 0., 0.],\n",
              "       [1., 0., 0.],\n",
              "       [1., 0., 0.],\n",
              "       [1., 0., 0.],\n",
              "       [1., 0., 0.],\n",
              "       [1., 0., 0.],\n",
              "       [1., 0., 0.],\n",
              "       [1., 0., 0.],\n",
              "       [0., 1., 0.],\n",
              "       [0., 1., 0.],\n",
              "       [0., 1., 0.],\n",
              "       [0., 1., 0.],\n",
              "       [0., 1., 0.],\n",
              "       [0., 1., 0.],\n",
              "       [0., 1., 0.],\n",
              "       [0., 1., 0.],\n",
              "       [0., 1., 0.],\n",
              "       [0., 1., 0.],\n",
              "       [0., 1., 0.],\n",
              "       [0., 1., 0.],\n",
              "       [0., 1., 0.],\n",
              "       [0., 1., 0.],\n",
              "       [0., 1., 0.],\n",
              "       [0., 1., 0.],\n",
              "       [0., 1., 0.],\n",
              "       [0., 1., 0.],\n",
              "       [0., 1., 0.],\n",
              "       [0., 1., 0.],\n",
              "       [0., 1., 0.],\n",
              "       [0., 1., 0.],\n",
              "       [0., 1., 0.],\n",
              "       [0., 1., 0.],\n",
              "       [0., 1., 0.],\n",
              "       [0., 1., 0.],\n",
              "       [0., 1., 0.],\n",
              "       [0., 1., 0.],\n",
              "       [0., 1., 0.],\n",
              "       [0., 1., 0.],\n",
              "       [0., 1., 0.],\n",
              "       [0., 1., 0.],\n",
              "       [0., 1., 0.],\n",
              "       [0., 1., 0.],\n",
              "       [0., 1., 0.],\n",
              "       [0., 1., 0.],\n",
              "       [0., 1., 0.],\n",
              "       [0., 1., 0.],\n",
              "       [0., 1., 0.],\n",
              "       [0., 1., 0.],\n",
              "       [0., 1., 0.],\n",
              "       [0., 1., 0.],\n",
              "       [0., 1., 0.],\n",
              "       [0., 1., 0.],\n",
              "       [0., 1., 0.],\n",
              "       [0., 1., 0.],\n",
              "       [0., 1., 0.],\n",
              "       [0., 1., 0.],\n",
              "       [0., 1., 0.],\n",
              "       [0., 1., 0.],\n",
              "       [0., 0., 1.],\n",
              "       [0., 0., 1.],\n",
              "       [0., 0., 1.],\n",
              "       [0., 0., 1.],\n",
              "       [0., 0., 1.],\n",
              "       [0., 0., 1.],\n",
              "       [0., 0., 1.],\n",
              "       [0., 0., 1.],\n",
              "       [0., 0., 1.],\n",
              "       [0., 0., 1.],\n",
              "       [0., 0., 1.],\n",
              "       [0., 0., 1.],\n",
              "       [0., 0., 1.],\n",
              "       [0., 0., 1.],\n",
              "       [0., 0., 1.],\n",
              "       [0., 0., 1.],\n",
              "       [0., 0., 1.],\n",
              "       [0., 0., 1.],\n",
              "       [0., 0., 1.],\n",
              "       [0., 0., 1.],\n",
              "       [0., 0., 1.],\n",
              "       [0., 0., 1.],\n",
              "       [0., 0., 1.],\n",
              "       [0., 0., 1.],\n",
              "       [0., 0., 1.],\n",
              "       [0., 0., 1.],\n",
              "       [0., 0., 1.],\n",
              "       [0., 0., 1.],\n",
              "       [0., 0., 1.],\n",
              "       [0., 0., 1.],\n",
              "       [0., 0., 1.],\n",
              "       [0., 0., 1.],\n",
              "       [0., 0., 1.],\n",
              "       [0., 0., 1.],\n",
              "       [0., 0., 1.],\n",
              "       [0., 0., 1.],\n",
              "       [0., 0., 1.],\n",
              "       [0., 0., 1.],\n",
              "       [0., 0., 1.],\n",
              "       [0., 0., 1.],\n",
              "       [0., 0., 1.],\n",
              "       [0., 0., 1.],\n",
              "       [0., 0., 1.],\n",
              "       [0., 0., 1.],\n",
              "       [0., 0., 1.],\n",
              "       [0., 0., 1.],\n",
              "       [0., 0., 1.],\n",
              "       [0., 0., 1.],\n",
              "       [0., 0., 1.],\n",
              "       [0., 0., 1.]], dtype=float32)"
            ]
          },
          "metadata": {
            "tags": []
          },
          "execution_count": 44
        }
      ]
    },
    {
      "cell_type": "code",
      "metadata": {
        "id": "tvwMOIAV_rla"
      },
      "source": [
        "# Geracao dos arquivos de treino, teste e validacao\r\n",
        "X_train, X_test, y_train, y_test = train_test_split(X, y2, test_size=0.20) # NEW! lembrando que aqui tem que mudar para y2"
      ],
      "execution_count": 46,
      "outputs": []
    },
    {
      "cell_type": "code",
      "metadata": {
        "id": "LKECHynBA06S"
      },
      "source": [
        "# Geracao do modelo \r\n",
        "model = Sequential()\r\n",
        "model.add(Dense(100, activation= 'tanh', kernel_initializer= 'he_normal', input_shape=(4,))) #5 colunas-1=4\r\n",
        "model.add(Dense(80, activation = 'relu'))\r\n",
        "model.add(Dense(3, activation= 'softmax'))  #NEW! Multiclasse A SAIDA AGORA SAO 3, assim nao se usa a sigmoid e sim a SOFTMAX > 2saidas"
      ],
      "execution_count": 47,
      "outputs": []
    },
    {
      "cell_type": "code",
      "metadata": {
        "id": "Fhxc6J-LClAh"
      },
      "source": [
        "# Compilacao do modelo \r\n",
        "model.compile(optimizer='adam', loss='categorical_crossentropy', metrics= ['accuracy']) # NEW!muda a funcao de perda para categorical em vez de binary\r\n"
      ],
      "execution_count": 48,
      "outputs": []
    },
    {
      "cell_type": "code",
      "metadata": {
        "colab": {
          "base_uri": "https://localhost:8080/"
        },
        "id": "GHT6B2JwDwtJ",
        "outputId": "cbdc0eef-5e92-4c4c-9aff-b031ac209f8b"
      },
      "source": [
        "history = model.fit(X_train, y_train, validation_data=(X_test, y_test), epochs=50, batch_size=32, verbose=1)"
      ],
      "execution_count": 49,
      "outputs": [
        {
          "output_type": "stream",
          "text": [
            "Epoch 1/50\n",
            "4/4 [==============================] - 1s 119ms/step - loss: 0.9180 - accuracy: 0.5516 - val_loss: 0.8120 - val_accuracy: 0.6000\n",
            "Epoch 2/50\n",
            "4/4 [==============================] - 0s 13ms/step - loss: 0.6959 - accuracy: 0.7035 - val_loss: 0.7011 - val_accuracy: 0.6000\n",
            "Epoch 3/50\n",
            "4/4 [==============================] - 0s 14ms/step - loss: 0.5657 - accuracy: 0.7257 - val_loss: 0.5466 - val_accuracy: 0.9667\n",
            "Epoch 4/50\n",
            "4/4 [==============================] - 0s 14ms/step - loss: 0.4658 - accuracy: 0.9546 - val_loss: 0.5001 - val_accuracy: 0.8000\n",
            "Epoch 5/50\n",
            "4/4 [==============================] - 0s 13ms/step - loss: 0.3938 - accuracy: 0.8904 - val_loss: 0.4439 - val_accuracy: 0.9000\n",
            "Epoch 6/50\n",
            "4/4 [==============================] - 0s 14ms/step - loss: 0.3846 - accuracy: 0.9624 - val_loss: 0.4254 - val_accuracy: 0.8667\n",
            "Epoch 7/50\n",
            "4/4 [==============================] - 0s 13ms/step - loss: 0.3524 - accuracy: 0.9047 - val_loss: 0.3861 - val_accuracy: 0.9000\n",
            "Epoch 8/50\n",
            "4/4 [==============================] - 0s 13ms/step - loss: 0.3272 - accuracy: 0.9563 - val_loss: 0.3489 - val_accuracy: 0.9667\n",
            "Epoch 9/50\n",
            "4/4 [==============================] - 0s 12ms/step - loss: 0.2926 - accuracy: 0.9797 - val_loss: 0.3239 - val_accuracy: 0.9667\n",
            "Epoch 10/50\n",
            "4/4 [==============================] - 0s 14ms/step - loss: 0.2568 - accuracy: 0.9881 - val_loss: 0.3025 - val_accuracy: 0.9667\n",
            "Epoch 11/50\n",
            "4/4 [==============================] - 0s 13ms/step - loss: 0.2499 - accuracy: 0.9595 - val_loss: 0.2851 - val_accuracy: 0.9667\n",
            "Epoch 12/50\n",
            "4/4 [==============================] - 0s 13ms/step - loss: 0.2375 - accuracy: 0.9626 - val_loss: 0.2655 - val_accuracy: 0.9667\n",
            "Epoch 13/50\n",
            "4/4 [==============================] - 0s 13ms/step - loss: 0.2084 - accuracy: 0.9730 - val_loss: 0.2478 - val_accuracy: 0.9667\n",
            "Epoch 14/50\n",
            "4/4 [==============================] - 0s 13ms/step - loss: 0.1960 - accuracy: 0.9595 - val_loss: 0.2307 - val_accuracy: 0.9667\n",
            "Epoch 15/50\n",
            "4/4 [==============================] - 0s 15ms/step - loss: 0.1862 - accuracy: 0.9912 - val_loss: 0.2157 - val_accuracy: 0.9667\n",
            "Epoch 16/50\n",
            "4/4 [==============================] - 0s 17ms/step - loss: 0.1798 - accuracy: 0.9712 - val_loss: 0.2017 - val_accuracy: 0.9667\n",
            "Epoch 17/50\n",
            "4/4 [==============================] - 0s 14ms/step - loss: 0.1672 - accuracy: 0.9657 - val_loss: 0.1898 - val_accuracy: 0.9667\n",
            "Epoch 18/50\n",
            "4/4 [==============================] - 0s 14ms/step - loss: 0.1707 - accuracy: 0.9670 - val_loss: 0.1814 - val_accuracy: 0.9667\n",
            "Epoch 19/50\n",
            "4/4 [==============================] - 0s 15ms/step - loss: 0.1300 - accuracy: 0.9826 - val_loss: 0.1733 - val_accuracy: 0.9667\n",
            "Epoch 20/50\n",
            "4/4 [==============================] - 0s 14ms/step - loss: 0.1281 - accuracy: 0.9818 - val_loss: 0.1625 - val_accuracy: 0.9667\n",
            "Epoch 21/50\n",
            "4/4 [==============================] - 0s 14ms/step - loss: 0.1333 - accuracy: 0.9712 - val_loss: 0.1547 - val_accuracy: 0.9667\n",
            "Epoch 22/50\n",
            "4/4 [==============================] - 0s 13ms/step - loss: 0.1316 - accuracy: 0.9657 - val_loss: 0.1476 - val_accuracy: 0.9667\n",
            "Epoch 23/50\n",
            "4/4 [==============================] - 0s 14ms/step - loss: 0.1311 - accuracy: 0.9829 - val_loss: 0.1441 - val_accuracy: 0.9667\n",
            "Epoch 24/50\n",
            "4/4 [==============================] - 0s 15ms/step - loss: 0.0964 - accuracy: 0.9912 - val_loss: 0.1381 - val_accuracy: 0.9667\n",
            "Epoch 25/50\n",
            "4/4 [==============================] - 0s 15ms/step - loss: 0.1214 - accuracy: 0.9818 - val_loss: 0.1307 - val_accuracy: 0.9667\n",
            "Epoch 26/50\n",
            "4/4 [==============================] - 0s 12ms/step - loss: 0.1247 - accuracy: 0.9618 - val_loss: 0.1257 - val_accuracy: 0.9667\n",
            "Epoch 27/50\n",
            "4/4 [==============================] - 0s 14ms/step - loss: 0.1184 - accuracy: 0.9618 - val_loss: 0.1213 - val_accuracy: 0.9667\n",
            "Epoch 28/50\n",
            "4/4 [==============================] - 0s 14ms/step - loss: 0.1079 - accuracy: 0.9797 - val_loss: 0.1199 - val_accuracy: 0.9667\n",
            "Epoch 29/50\n",
            "4/4 [==============================] - 0s 13ms/step - loss: 0.1223 - accuracy: 0.9797 - val_loss: 0.1140 - val_accuracy: 0.9667\n",
            "Epoch 30/50\n",
            "4/4 [==============================] - 0s 13ms/step - loss: 0.1182 - accuracy: 0.9766 - val_loss: 0.1103 - val_accuracy: 0.9667\n",
            "Epoch 31/50\n",
            "4/4 [==============================] - 0s 13ms/step - loss: 0.1223 - accuracy: 0.9704 - val_loss: 0.1061 - val_accuracy: 0.9667\n",
            "Epoch 32/50\n",
            "4/4 [==============================] - 0s 13ms/step - loss: 0.1015 - accuracy: 0.9766 - val_loss: 0.1036 - val_accuracy: 0.9667\n",
            "Epoch 33/50\n",
            "4/4 [==============================] - 0s 13ms/step - loss: 0.0932 - accuracy: 0.9837 - val_loss: 0.1041 - val_accuracy: 0.9667\n",
            "Epoch 34/50\n",
            "4/4 [==============================] - 0s 13ms/step - loss: 0.1153 - accuracy: 0.9704 - val_loss: 0.0979 - val_accuracy: 0.9667\n",
            "Epoch 35/50\n",
            "4/4 [==============================] - 0s 12ms/step - loss: 0.0954 - accuracy: 0.9785 - val_loss: 0.0964 - val_accuracy: 1.0000\n",
            "Epoch 36/50\n",
            "4/4 [==============================] - 0s 14ms/step - loss: 0.0826 - accuracy: 0.9709 - val_loss: 0.0933 - val_accuracy: 0.9667\n",
            "Epoch 37/50\n",
            "4/4 [==============================] - 0s 16ms/step - loss: 0.0827 - accuracy: 0.9891 - val_loss: 0.0930 - val_accuracy: 0.9667\n",
            "Epoch 38/50\n",
            "4/4 [==============================] - 0s 13ms/step - loss: 0.0907 - accuracy: 0.9805 - val_loss: 0.0906 - val_accuracy: 0.9667\n",
            "Epoch 39/50\n",
            "4/4 [==============================] - 0s 13ms/step - loss: 0.1131 - accuracy: 0.9704 - val_loss: 0.0886 - val_accuracy: 1.0000\n",
            "Epoch 40/50\n",
            "4/4 [==============================] - 0s 13ms/step - loss: 0.0692 - accuracy: 0.9732 - val_loss: 0.0850 - val_accuracy: 1.0000\n",
            "Epoch 41/50\n",
            "4/4 [==============================] - 0s 13ms/step - loss: 0.1037 - accuracy: 0.9818 - val_loss: 0.0833 - val_accuracy: 1.0000\n",
            "Epoch 42/50\n",
            "4/4 [==============================] - 0s 13ms/step - loss: 0.0827 - accuracy: 0.9797 - val_loss: 0.0816 - val_accuracy: 1.0000\n",
            "Epoch 43/50\n",
            "4/4 [==============================] - 0s 12ms/step - loss: 0.0930 - accuracy: 0.9797 - val_loss: 0.0802 - val_accuracy: 1.0000\n",
            "Epoch 44/50\n",
            "4/4 [==============================] - 0s 13ms/step - loss: 0.0889 - accuracy: 0.9818 - val_loss: 0.0792 - val_accuracy: 0.9667\n",
            "Epoch 45/50\n",
            "4/4 [==============================] - 0s 14ms/step - loss: 0.0821 - accuracy: 0.9860 - val_loss: 0.0778 - val_accuracy: 0.9667\n",
            "Epoch 46/50\n",
            "4/4 [==============================] - 0s 15ms/step - loss: 0.0956 - accuracy: 0.9704 - val_loss: 0.0760 - val_accuracy: 1.0000\n",
            "Epoch 47/50\n",
            "4/4 [==============================] - 0s 15ms/step - loss: 0.0861 - accuracy: 0.9818 - val_loss: 0.0760 - val_accuracy: 0.9667\n",
            "Epoch 48/50\n",
            "4/4 [==============================] - 0s 15ms/step - loss: 0.0695 - accuracy: 0.9732 - val_loss: 0.0731 - val_accuracy: 1.0000\n",
            "Epoch 49/50\n",
            "4/4 [==============================] - 0s 14ms/step - loss: 0.0674 - accuracy: 0.9860 - val_loss: 0.0727 - val_accuracy: 1.0000\n",
            "Epoch 50/50\n",
            "4/4 [==============================] - 0s 14ms/step - loss: 0.0976 - accuracy: 0.9797 - val_loss: 0.0705 - val_accuracy: 1.0000\n"
          ],
          "name": "stdout"
        }
      ]
    },
    {
      "cell_type": "code",
      "metadata": {
        "colab": {
          "base_uri": "https://localhost:8080/",
          "height": 193
        },
        "id": "riDPabOTJ8fl",
        "outputId": "01738960-9694-4bed-f2c4-da20e5501925"
      },
      "source": [
        "#GRAFICO - plot loss durante treinamenti=o\r\n",
        "plt.subplot(211)\r\n",
        "plt.title('Grafico de Custo')\r\n",
        "plt.plot(history.history['loss'], label= 'Perdas durante os Treinamentos')\r\n",
        "plt.plot(history.history['val_loss'], label= 'Perdas durante os Testes')\r\n",
        "plt.xlabel('Epocas')\r\n",
        "plt.ylabel('Perdas')\r\n",
        "plt.legend"
      ],
      "execution_count": 50,
      "outputs": [
        {
          "output_type": "execute_result",
          "data": {
            "text/plain": [
              "<function matplotlib.pyplot.legend>"
            ]
          },
          "metadata": {
            "tags": []
          },
          "execution_count": 50
        },
        {
          "output_type": "display_data",
          "data": {
            "image/png": "[encoded data removed]",
            "text/plain": [
              "<Figure size 432x288 with 1 Axes>"
            ]
          },
          "metadata": {
            "tags": [],
            "needs_background": "light"
          }
        }
      ]
    },
    {
      "cell_type": "code",
      "metadata": {
        "colab": {
          "base_uri": "https://localhost:8080/",
          "height": 193
        },
        "id": "2JPWJyRMK1RD",
        "outputId": "dcdbf6dd-b18b-4931-c206-9020e051cf34"
      },
      "source": [
        "#GRAFICO - plot accuracy durante treinament-\r\n",
        "plt.subplot(212)\r\n",
        "plt.title('Grafico de Desempenho')\r\n",
        "plt.plot(history.history['accuracy'], label= 'Acuracia durante os Testes')\r\n",
        "plt.plot(history.history['val_accuracy'], label= 'Acuracia durante os Testes')\r\n",
        "plt.xlabel('Epocas')\r\n",
        "plt.ylabel('Acuracia')\r\n",
        "plt.legend"
      ],
      "execution_count": 51,
      "outputs": [
        {
          "output_type": "execute_result",
          "data": {
            "text/plain": [
              "<function matplotlib.pyplot.legend>"
            ]
          },
          "metadata": {
            "tags": []
          },
          "execution_count": 51
        },
        {
          "output_type": "display_data",
          "data": {
            "image/png": "[encoded data removed]",
            "text/plain": [
              "<Figure size 432x288 with 1 Axes>"
            ]
          },
          "metadata": {
            "tags": [],
            "needs_background": "light"
          }
        }
      ]
    }
  ]
}