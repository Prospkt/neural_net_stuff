{
  "nbformat": 4,
  "nbformat_minor": 0,
  "metadata": {
    "colab": {
      "name": " ID3_regressao_case_precodecasa_github",
      "provenance": [],
      "authorship_tag": "ABX9TyO0Ltg6uv5qH0dkGORZ0p0O",
      "include_colab_link": true
    },
    "kernelspec": {
      "name": "python3",
      "display_name": "Python 3"
    }
  },
  "cells": [
    {
      "cell_type": "markdown",
      "metadata": {
        "id": "view-in-github",
        "colab_type": "text"
      },
      "source": [
        "<a href=\"https://colab.research.google.com/github/Prospkt/neural_net_stuff/blob/main/ID3_regressao_case_precodecasa_github.ipynb\" target=\"_parent\"><img src=\"https://colab.research.google.com/assets/colab-badge.svg\" alt=\"Open In Colab\"/></a>"
      ]
    },
    {
      "cell_type": "code",
      "metadata": {
        "id": "W_SgUmdGIzCh"
      },
      "source": [
        "#Principais diferencas de classificacao pra regressao\r\n",
        "#1 - tem apenas uma saida\r\n",
        "#2 - funcao relu para iniciar e linear na saida\r\n",
        "#3 - loss e MSE "
      ],
      "execution_count": 7,
      "outputs": []
    },
    {
      "cell_type": "code",
      "metadata": {
        "id": "-qygEeg85Nax"
      },
      "source": [
        "#escolhendo bibliotecas do collab\r\n",
        "from pandas import read_csv\r\n",
        "from sklearn.model_selection import train_test_split\r\n",
        "from tensorflow.keras import Sequential\r\n",
        "from tensorflow.keras.layers import Dense\r\n",
        "import matplotlib.pyplot as plt\r\n",
        "\r\n"
      ],
      "execution_count": 8,
      "outputs": []
    },
    {
      "cell_type": "code",
      "metadata": {
        "colab": {
          "base_uri": "https://localhost:8080/",
          "height": 392
        },
        "id": "mcZ-lRnL-M0O",
        "outputId": "fae46187-8313-4505-b18e-d2287f81ec14"
      },
      "source": [
        "dados = read_csv('/content/RegressaoPrecodeCasa.csv', sep=\";\")  #aqui a separacao e por ponto e virgula\r\n",
        "dados"
      ],
      "execution_count": 9,
      "outputs": [
        {
          "output_type": "execute_result",
          "data": {
            "text/html": [
              "<div>\n",
              "<style scoped>\n",
              "    .dataframe tbody tr th:only-of-type {\n",
              "        vertical-align: middle;\n",
              "    }\n",
              "\n",
              "    .dataframe tbody tr th {\n",
              "        vertical-align: top;\n",
              "    }\n",
              "\n",
              "    .dataframe thead th {\n",
              "        text-align: right;\n",
              "    }\n",
              "</style>\n",
              "<table border=\"1\" class=\"dataframe\">\n",
              "  <thead>\n",
              "    <tr style=\"text-align: right;\">\n",
              "      <th></th>\n",
              "      <th>0.00632</th>\n",
              "      <th>18</th>\n",
              "      <th>2.31</th>\n",
              "      <th>0</th>\n",
              "      <th>0.538</th>\n",
              "      <th>6.575</th>\n",
              "      <th>65.2</th>\n",
              "      <th>4.09</th>\n",
              "      <th>1</th>\n",
              "      <th>296</th>\n",
              "      <th>15.3</th>\n",
              "      <th>396.9</th>\n",
              "      <th>4.98</th>\n",
              "      <th>24</th>\n",
              "    </tr>\n",
              "  </thead>\n",
              "  <tbody>\n",
              "    <tr>\n",
              "      <th>0</th>\n",
              "      <td>0.02731</td>\n",
              "      <td>0.0</td>\n",
              "      <td>7.07</td>\n",
              "      <td>0</td>\n",
              "      <td>0.469</td>\n",
              "      <td>6.421</td>\n",
              "      <td>78.9</td>\n",
              "      <td>4.9671</td>\n",
              "      <td>2</td>\n",
              "      <td>242</td>\n",
              "      <td>17.8</td>\n",
              "      <td>396.90</td>\n",
              "      <td>9.14</td>\n",
              "      <td>21.6</td>\n",
              "    </tr>\n",
              "    <tr>\n",
              "      <th>1</th>\n",
              "      <td>0.02729</td>\n",
              "      <td>0.0</td>\n",
              "      <td>7.07</td>\n",
              "      <td>0</td>\n",
              "      <td>0.469</td>\n",
              "      <td>7.185</td>\n",
              "      <td>61.1</td>\n",
              "      <td>4.9671</td>\n",
              "      <td>2</td>\n",
              "      <td>242</td>\n",
              "      <td>17.8</td>\n",
              "      <td>392.83</td>\n",
              "      <td>4.03</td>\n",
              "      <td>34.7</td>\n",
              "    </tr>\n",
              "    <tr>\n",
              "      <th>2</th>\n",
              "      <td>0.03237</td>\n",
              "      <td>0.0</td>\n",
              "      <td>2.18</td>\n",
              "      <td>0</td>\n",
              "      <td>0.458</td>\n",
              "      <td>6.998</td>\n",
              "      <td>45.8</td>\n",
              "      <td>6.0622</td>\n",
              "      <td>3</td>\n",
              "      <td>222</td>\n",
              "      <td>18.7</td>\n",
              "      <td>394.63</td>\n",
              "      <td>2.94</td>\n",
              "      <td>33.4</td>\n",
              "    </tr>\n",
              "    <tr>\n",
              "      <th>3</th>\n",
              "      <td>0.06905</td>\n",
              "      <td>0.0</td>\n",
              "      <td>2.18</td>\n",
              "      <td>0</td>\n",
              "      <td>0.458</td>\n",
              "      <td>7.147</td>\n",
              "      <td>54.2</td>\n",
              "      <td>6.0622</td>\n",
              "      <td>3</td>\n",
              "      <td>222</td>\n",
              "      <td>18.7</td>\n",
              "      <td>396.90</td>\n",
              "      <td>5.33</td>\n",
              "      <td>36.2</td>\n",
              "    </tr>\n",
              "    <tr>\n",
              "      <th>4</th>\n",
              "      <td>0.02985</td>\n",
              "      <td>0.0</td>\n",
              "      <td>2.18</td>\n",
              "      <td>0</td>\n",
              "      <td>0.458</td>\n",
              "      <td>6.430</td>\n",
              "      <td>58.7</td>\n",
              "      <td>6.0622</td>\n",
              "      <td>3</td>\n",
              "      <td>222</td>\n",
              "      <td>18.7</td>\n",
              "      <td>394.12</td>\n",
              "      <td>5.21</td>\n",
              "      <td>28.7</td>\n",
              "    </tr>\n",
              "    <tr>\n",
              "      <th>...</th>\n",
              "      <td>...</td>\n",
              "      <td>...</td>\n",
              "      <td>...</td>\n",
              "      <td>...</td>\n",
              "      <td>...</td>\n",
              "      <td>...</td>\n",
              "      <td>...</td>\n",
              "      <td>...</td>\n",
              "      <td>...</td>\n",
              "      <td>...</td>\n",
              "      <td>...</td>\n",
              "      <td>...</td>\n",
              "      <td>...</td>\n",
              "      <td>...</td>\n",
              "    </tr>\n",
              "    <tr>\n",
              "      <th>500</th>\n",
              "      <td>0.06263</td>\n",
              "      <td>0.0</td>\n",
              "      <td>11.93</td>\n",
              "      <td>0</td>\n",
              "      <td>0.573</td>\n",
              "      <td>6.593</td>\n",
              "      <td>69.1</td>\n",
              "      <td>2.4786</td>\n",
              "      <td>1</td>\n",
              "      <td>273</td>\n",
              "      <td>21.0</td>\n",
              "      <td>391.99</td>\n",
              "      <td>9.67</td>\n",
              "      <td>22.4</td>\n",
              "    </tr>\n",
              "    <tr>\n",
              "      <th>501</th>\n",
              "      <td>0.04527</td>\n",
              "      <td>0.0</td>\n",
              "      <td>11.93</td>\n",
              "      <td>0</td>\n",
              "      <td>0.573</td>\n",
              "      <td>6.120</td>\n",
              "      <td>76.7</td>\n",
              "      <td>2.2875</td>\n",
              "      <td>1</td>\n",
              "      <td>273</td>\n",
              "      <td>21.0</td>\n",
              "      <td>396.90</td>\n",
              "      <td>9.08</td>\n",
              "      <td>20.6</td>\n",
              "    </tr>\n",
              "    <tr>\n",
              "      <th>502</th>\n",
              "      <td>0.06076</td>\n",
              "      <td>0.0</td>\n",
              "      <td>11.93</td>\n",
              "      <td>0</td>\n",
              "      <td>0.573</td>\n",
              "      <td>6.976</td>\n",
              "      <td>91.0</td>\n",
              "      <td>2.1675</td>\n",
              "      <td>1</td>\n",
              "      <td>273</td>\n",
              "      <td>21.0</td>\n",
              "      <td>396.90</td>\n",
              "      <td>5.64</td>\n",
              "      <td>23.9</td>\n",
              "    </tr>\n",
              "    <tr>\n",
              "      <th>503</th>\n",
              "      <td>0.10959</td>\n",
              "      <td>0.0</td>\n",
              "      <td>11.93</td>\n",
              "      <td>0</td>\n",
              "      <td>0.573</td>\n",
              "      <td>6.794</td>\n",
              "      <td>89.3</td>\n",
              "      <td>2.3889</td>\n",
              "      <td>1</td>\n",
              "      <td>273</td>\n",
              "      <td>21.0</td>\n",
              "      <td>393.45</td>\n",
              "      <td>6.48</td>\n",
              "      <td>22.0</td>\n",
              "    </tr>\n",
              "    <tr>\n",
              "      <th>504</th>\n",
              "      <td>0.04741</td>\n",
              "      <td>0.0</td>\n",
              "      <td>11.93</td>\n",
              "      <td>0</td>\n",
              "      <td>0.573</td>\n",
              "      <td>6.030</td>\n",
              "      <td>80.8</td>\n",
              "      <td>2.5050</td>\n",
              "      <td>1</td>\n",
              "      <td>273</td>\n",
              "      <td>21.0</td>\n",
              "      <td>396.90</td>\n",
              "      <td>7.88</td>\n",
              "      <td>11.9</td>\n",
              "    </tr>\n",
              "  </tbody>\n",
              "</table>\n",
              "<p>505 rows × 14 columns</p>\n",
              "</div>"
            ],
            "text/plain": [
              "     0.00632   18   2.31  0  0.538  6.575  ...  1  296  15.3   396.9  4.98    24\n",
              "0    0.02731  0.0   7.07  0  0.469  6.421  ...  2  242  17.8  396.90  9.14  21.6\n",
              "1    0.02729  0.0   7.07  0  0.469  7.185  ...  2  242  17.8  392.83  4.03  34.7\n",
              "2    0.03237  0.0   2.18  0  0.458  6.998  ...  3  222  18.7  394.63  2.94  33.4\n",
              "3    0.06905  0.0   2.18  0  0.458  7.147  ...  3  222  18.7  396.90  5.33  36.2\n",
              "4    0.02985  0.0   2.18  0  0.458  6.430  ...  3  222  18.7  394.12  5.21  28.7\n",
              "..       ...  ...    ... ..    ...    ...  ... ..  ...   ...     ...   ...   ...\n",
              "500  0.06263  0.0  11.93  0  0.573  6.593  ...  1  273  21.0  391.99  9.67  22.4\n",
              "501  0.04527  0.0  11.93  0  0.573  6.120  ...  1  273  21.0  396.90  9.08  20.6\n",
              "502  0.06076  0.0  11.93  0  0.573  6.976  ...  1  273  21.0  396.90  5.64  23.9\n",
              "503  0.10959  0.0  11.93  0  0.573  6.794  ...  1  273  21.0  393.45  6.48  22.0\n",
              "504  0.04741  0.0  11.93  0  0.573  6.030  ...  1  273  21.0  396.90  7.88  11.9\n",
              "\n",
              "[505 rows x 14 columns]"
            ]
          },
          "metadata": {
            "tags": []
          },
          "execution_count": 9
        }
      ]
    },
    {
      "cell_type": "code",
      "metadata": {
        "id": "WQy_upGF_AUs"
      },
      "source": [
        "X = dados.values[:,0:14]\r\n",
        "y = dados.values[:,13]\r\n"
      ],
      "execution_count": 16,
      "outputs": []
    },
    {
      "cell_type": "code",
      "metadata": {
        "id": "tvwMOIAV_rla"
      },
      "source": [
        "# Geracao dos arquivos de treino, teste e validacao\r\n",
        "X_train, X_test, y_train, y_test = train_test_split(X, y, test_size=0.20) "
      ],
      "execution_count": 13,
      "outputs": []
    },
    {
      "cell_type": "code",
      "metadata": {
        "id": "LKECHynBA06S"
      },
      "source": [
        "# Geracao do modelo \r\n",
        "model = Sequential() #deeplearning\r\n",
        "model.add(Dense(200, input_dim=14,activation= 'relu', kernel_initializer= 'normal')) # NEW!! usando relu para regressao e melhor esse iput_dim e diferente de input shade\r\n",
        "model.add(Dense(200, activation = 'relu'))\r\n",
        "model.add(Dense(1, activation= 'linear'))  #NEW! Na regressao so tem uma possibilidade de saida "
      ],
      "execution_count": 31,
      "outputs": []
    },
    {
      "cell_type": "code",
      "metadata": {
        "id": "Fhxc6J-LClAh"
      },
      "source": [
        "# Compilacao do modelo \r\n",
        "model.compile(optimizer='adam', loss='mse')\r\n"
      ],
      "execution_count": 32,
      "outputs": []
    },
    {
      "cell_type": "code",
      "metadata": {
        "colab": {
          "base_uri": "https://localhost:8080/"
        },
        "id": "GHT6B2JwDwtJ",
        "outputId": "77405324-ab6f-46af-a594-308298c22f41"
      },
      "source": [
        "history = model.fit(X_train, y_train, validation_data=(X_test, y_test), epochs=30, batch_size=32, verbose=1)"
      ],
      "execution_count": 33,
      "outputs": [
        {
          "output_type": "stream",
          "text": [
            "Epoch 1/30\n",
            "13/13 [==============================] - 0s 13ms/step - loss: 128.4809 - val_loss: 74.7072\n",
            "Epoch 2/30\n",
            "13/13 [==============================] - 0s 4ms/step - loss: 59.0254 - val_loss: 52.5931\n",
            "Epoch 3/30\n",
            "13/13 [==============================] - 0s 15ms/step - loss: 54.5619 - val_loss: 46.8826\n",
            "Epoch 4/30\n",
            "13/13 [==============================] - 0s 5ms/step - loss: 46.2547 - val_loss: 37.6646\n",
            "Epoch 5/30\n",
            "13/13 [==============================] - 0s 5ms/step - loss: 33.5806 - val_loss: 30.3201\n",
            "Epoch 6/30\n",
            "13/13 [==============================] - 0s 5ms/step - loss: 24.7349 - val_loss: 27.5168\n",
            "Epoch 7/30\n",
            "13/13 [==============================] - 0s 4ms/step - loss: 22.5633 - val_loss: 20.6483\n",
            "Epoch 8/30\n",
            "13/13 [==============================] - 0s 4ms/step - loss: 15.6916 - val_loss: 10.3474\n",
            "Epoch 9/30\n",
            "13/13 [==============================] - 0s 4ms/step - loss: 8.4605 - val_loss: 6.3479\n",
            "Epoch 10/30\n",
            "13/13 [==============================] - 0s 4ms/step - loss: 4.3919 - val_loss: 3.9861\n",
            "Epoch 11/30\n",
            "13/13 [==============================] - 0s 5ms/step - loss: 4.1777 - val_loss: 3.3775\n",
            "Epoch 12/30\n",
            "13/13 [==============================] - 0s 4ms/step - loss: 3.3721 - val_loss: 2.5537\n",
            "Epoch 13/30\n",
            "13/13 [==============================] - 0s 4ms/step - loss: 2.7573 - val_loss: 2.3849\n",
            "Epoch 14/30\n",
            "13/13 [==============================] - 0s 5ms/step - loss: 3.9406 - val_loss: 2.8707\n",
            "Epoch 15/30\n",
            "13/13 [==============================] - 0s 5ms/step - loss: 2.2761 - val_loss: 2.5739\n",
            "Epoch 16/30\n",
            "13/13 [==============================] - 0s 4ms/step - loss: 2.9919 - val_loss: 1.8629\n",
            "Epoch 17/30\n",
            "13/13 [==============================] - 0s 4ms/step - loss: 1.9048 - val_loss: 2.2249\n",
            "Epoch 18/30\n",
            "13/13 [==============================] - 0s 4ms/step - loss: 1.7978 - val_loss: 0.9529\n",
            "Epoch 19/30\n",
            "13/13 [==============================] - 0s 5ms/step - loss: 0.8669 - val_loss: 0.6808\n",
            "Epoch 20/30\n",
            "13/13 [==============================] - 0s 4ms/step - loss: 0.9420 - val_loss: 1.1391\n",
            "Epoch 21/30\n",
            "13/13 [==============================] - 0s 4ms/step - loss: 1.9540 - val_loss: 1.1893\n",
            "Epoch 22/30\n",
            "13/13 [==============================] - 0s 4ms/step - loss: 1.0127 - val_loss: 0.7740\n",
            "Epoch 23/30\n",
            "13/13 [==============================] - 0s 5ms/step - loss: 1.1107 - val_loss: 1.5023\n",
            "Epoch 24/30\n",
            "13/13 [==============================] - 0s 4ms/step - loss: 0.7722 - val_loss: 1.1990\n",
            "Epoch 25/30\n",
            "13/13 [==============================] - 0s 4ms/step - loss: 1.6720 - val_loss: 1.2672\n",
            "Epoch 26/30\n",
            "13/13 [==============================] - 0s 4ms/step - loss: 0.7950 - val_loss: 0.3535\n",
            "Epoch 27/30\n",
            "13/13 [==============================] - 0s 4ms/step - loss: 0.5586 - val_loss: 0.9647\n",
            "Epoch 28/30\n",
            "13/13 [==============================] - 0s 5ms/step - loss: 0.6343 - val_loss: 0.4506\n",
            "Epoch 29/30\n",
            "13/13 [==============================] - 0s 5ms/step - loss: 0.3769 - val_loss: 0.3326\n",
            "Epoch 30/30\n",
            "13/13 [==============================] - 0s 5ms/step - loss: 0.3928 - val_loss: 0.2282\n"
          ],
          "name": "stdout"
        }
      ]
    },
    {
      "cell_type": "code",
      "metadata": {
        "colab": {
          "base_uri": "https://localhost:8080/",
          "height": 193
        },
        "id": "riDPabOTJ8fl",
        "outputId": "b22c88ff-92b5-4023-a642-523e5a473d2c"
      },
      "source": [
        "#GRAFICO - plot loss durante treinamenti=o\r\n",
        "plt.subplot(211)\r\n",
        "plt.title('Grafico de Custo')\r\n",
        "plt.plot(history.history['loss'], label= 'Perdas durante os Treinamentos')\r\n",
        "plt.plot(history.history['val_loss'], label= 'Perdas durante os Testes')\r\n",
        "plt.xlabel('Epocas')\r\n",
        "plt.ylabel('Perdas')\r\n",
        "plt.legend"
      ],
      "execution_count": 25,
      "outputs": [
        {
          "output_type": "execute_result",
          "data": {
            "text/plain": [
              "<function matplotlib.pyplot.legend>"
            ]
          },
          "metadata": {
            "tags": []
          },
          "execution_count": 25
        },
        {
          "output_type": "display_data",
          "data": {
            "image/png": "[encoded data removed]",
            "text/plain": [
              "<Figure size 432x288 with 1 Axes>"
            ]
          },
          "metadata": {
            "tags": [],
            "needs_background": "light"
          }
        }
      ]
    }
  ]
}